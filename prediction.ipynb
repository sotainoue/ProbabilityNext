{
  "nbformat": 4,
  "nbformat_minor": 0,
  "metadata": {
    "kernelspec": {
      "name": "python3",
      "display_name": "Python 3"
    },
    "language_info": {
      "codemirror_mode": {
        "name": "ipython",
        "version": 3
      },
      "file_extension": ".py",
      "mimetype": "text/x-python",
      "name": "python",
      "nbconvert_exporter": "python",
      "pygments_lexer": "ipython3",
      "version": "3.6.8"
    },
    "colab": {
      "name": "prediction.ipynb",
      "provenance": [],
      "include_colab_link": true
    },
    "accelerator": "GPU"
  },
  "cells": [
    {
      "cell_type": "markdown",
      "metadata": {
        "id": "view-in-github",
        "colab_type": "text"
      },
      "source": [
        "<a href=\"https://colab.research.google.com/github/sotainoue/ProbabilityNext/blob/master/prediction.ipynb\" target=\"_parent\"><img src=\"https://colab.research.google.com/assets/colab-badge.svg\" alt=\"Open In Colab\"/></a>"
      ]
    },
    {
      "cell_type": "code",
      "metadata": {
        "id": "5aDdmQubebsY",
        "colab_type": "code",
        "colab": {
          "base_uri": "https://localhost:8080/",
          "height": 34
        },
        "outputId": "12afe3c0-20d3-42f7-d9c2-0edf712c07be"
      },
      "source": [
        "%tensorflow_version 2.x\n",
        "\n",
        "import numpy as np\n",
        "import matplotlib.pyplot as plt\n",
        "import glob\n",
        "import tensorflow as tf"
      ],
      "execution_count": 1,
      "outputs": [
        {
          "output_type": "stream",
          "text": [
            "TensorFlow 2.x selected.\n"
          ],
          "name": "stdout"
        }
      ]
    },
    {
      "cell_type": "code",
      "metadata": {
        "id": "sevDJtRepkNG",
        "colab_type": "code",
        "colab": {
          "base_uri": "https://localhost:8080/",
          "height": 1000
        },
        "outputId": "1b62a3f7-0557-4c05-a00e-9f67a91973d2"
      },
      "source": [
        "!curl -L -o output.zip https://www.dropbox.com/sh/lk83x10ymajb39k/AAC8r42edgQQV5p5tLHKcwh7a?dl=0\n",
        "!mkdir data\n",
        "!unzip output.zip -d data"
      ],
      "execution_count": 2,
      "outputs": [
        {
          "output_type": "stream",
          "text": [
            "  % Total    % Received % Xferd  Average Speed   Time    Time     Time  Current\n",
            "                                 Dload  Upload   Total   Spent    Left  Speed\n",
            "\r  0     0    0     0    0     0      0      0 --:--:-- --:--:-- --:--:--     0\r  0     0    0     0    0     0      0      0 --:--:-- --:--:-- --:--:--     0\n",
            "  0     0    0     0    0     0      0      0 --:--:-- --:--:-- --:--:--     0\n",
            "100  198k    0  198k    0     0   9495      0 --:--:--  0:00:21 --:--:-- 46191\n",
            "Archive:  output.zip\n",
            "warning:  stripped absolute path spec from /\n",
            "mapname:  conversion of  failed\n",
            " extracting: data/state_event_13_order_03.csv  \n",
            " extracting: data/state_event_25_order_03.csv  \n",
            " extracting: data/state_event_31_order_07.csv  \n",
            " extracting: data/state_event_12_order_06.csv  \n",
            " extracting: data/state_event_34_order_05.csv  \n",
            " extracting: data/state_event_61_order_04.csv  \n",
            " extracting: data/state_event_14_order_05.csv  \n",
            " extracting: data/state_event_22_order_07.csv  \n",
            " extracting: data/state_event_25_order_05.csv  \n",
            " extracting: data/state_event_31_order_02.csv  \n",
            " extracting: data/state_event_35_order_07.csv  \n",
            " extracting: data/state_event_59_order_01.csv  \n",
            " extracting: data/state_event_40_order_06.csv  \n",
            " extracting: data/state_event_22_order_03.csv  \n",
            " extracting: data/state_event_15_order_02.csv  \n",
            " extracting: data/state_event_61_order_09.csv  \n",
            " extracting: data/state_event_15_order_05.csv  \n",
            " extracting: data/state_event_25_order_08.csv  \n",
            " extracting: data/state_event_59_order_05.csv  \n",
            " extracting: data/state_event_34_order_03.csv  \n",
            " extracting: data/state_event_22_order_04.csv  \n",
            " extracting: data/state_event_59_order_03.csv  \n",
            " extracting: data/state_event_34_order_01.csv  \n",
            " extracting: data/state_event_30_order_01.csv  \n",
            " extracting: data/state_event_59_order_04.csv  \n",
            " extracting: data/state_event_30_order_04.csv  \n",
            " extracting: data/state_event_56_order_01.csv  \n",
            " extracting: data/state_event_34_order_06.csv  \n",
            " extracting: data/state_event_15_order_07.csv  \n",
            " extracting: data/state_event_30_order_07.csv  \n",
            " extracting: data/state_event_22_order_01.csv  \n",
            " extracting: data/state_event_56_order_04.csv  \n",
            " extracting: data/state_event_35_order_05.csv  \n",
            " extracting: data/state_event_22_order_02.csv  \n",
            " extracting: data/state_event_13_order_08.csv  \n",
            " extracting: data/state_event_31_order_08.csv  \n",
            " extracting: data/state_event_25_order_04.csv  \n",
            " extracting: data/state_event_40_order_02.csv  \n",
            " extracting: data/state_event_61_order_02.csv  \n",
            " extracting: data/state_event_25_order_07.csv  \n",
            " extracting: data/state_event_13_order_07.csv  \n",
            " extracting: data/state_event_31_order_04.csv  \n",
            " extracting: data/state_event_40_order_04.csv  \n",
            " extracting: data/state_event_61_order_07.csv  \n",
            " extracting: data/state_event_12_order_04.csv  \n",
            " extracting: data/state_event_15_order_06.csv  \n",
            " extracting: data/state_event_34_order_07.csv  \n",
            " extracting: data/state_event_34_order_09.csv  \n",
            " extracting: data/state_event_13_order_04.csv  \n",
            " extracting: data/state_event_56_order_07.csv  \n",
            " extracting: data/state_event_40_order_09.csv  \n",
            " extracting: data/state_event_59_order_07.csv  \n",
            " extracting: data/state_event_14_order_02.csv  \n",
            " extracting: data/state_event_40_order_01.csv  \n",
            " extracting: data/state_event_34_order_08.csv  \n",
            " extracting: data/state_event_31_order_09.csv  \n",
            " extracting: data/state_event_14_order_04.csv  \n",
            " extracting: data/state_event_56_order_08.csv  \n",
            " extracting: data/state_event_14_order_07.csv  \n",
            " extracting: data/state_event_14_order_01.csv  \n",
            " extracting: data/state_event_30_order_03.csv  \n",
            " extracting: data/state_event_35_order_03.csv  \n",
            " extracting: data/state_event_35_order_08.csv  \n",
            " extracting: data/state_event_30_order_05.csv  \n",
            " extracting: data/state_event_30_order_09.csv  \n",
            " extracting: data/state_event_13_order_01.csv  \n",
            " extracting: data/state_event_40_order_03.csv  \n",
            " extracting: data/state_event_40_order_05.csv  \n",
            " extracting: data/state_event_12_order_01.csv  \n",
            " extracting: data/state_event_35_order_04.csv  \n",
            " extracting: data/state_event_15_order_04.csv  \n",
            " extracting: data/state_event_61_order_01.csv  \n",
            " extracting: data/state_event_12_order_05.csv  \n",
            " extracting: data/state_event_15_order_01.csv  \n",
            " extracting: data/state_event_34_order_02.csv  \n",
            " extracting: data/state_event_56_order_09.csv  \n",
            " extracting: data/state_event_59_order_02.csv  \n",
            " extracting: data/state_event_30_order_06.csv  \n",
            " extracting: data/state_event_61_order_05.csv  \n",
            " extracting: data/state_event_15_order_09.csv  \n",
            " extracting: data/state_event_40_order_07.csv  \n",
            " extracting: data/state_event_56_order_03.csv  \n",
            " extracting: data/state_event_56_order_06.csv  \n",
            " extracting: data/state_event_34_order_04.csv  \n",
            " extracting: data/state_event_35_order_02.csv  \n",
            " extracting: data/state_event_13_order_05.csv  \n",
            " extracting: data/state_event_25_order_02.csv  \n",
            " extracting: data/state_event_25_order_09.csv  \n",
            " extracting: data/state_event_31_order_03.csv  \n",
            " extracting: data/state_event_31_order_05.csv  \n",
            " extracting: data/state_event_15_order_03.csv  \n",
            " extracting: data/state_event_12_order_07.csv  \n",
            " extracting: data/state_event_12_order_08.csv  \n",
            " extracting: data/state_event_31_order_06.csv  \n",
            " extracting: data/state_event_56_order_05.csv  \n",
            " extracting: data/state_event_13_order_02.csv  \n",
            " extracting: data/state_event_12_order_03.csv  \n",
            " extracting: data/state_event_59_order_09.csv  \n",
            " extracting: data/state_event_15_order_08.csv  \n",
            " extracting: data/state_event_35_order_06.csv  \n",
            " extracting: data/state_event_13_order_09.csv  \n",
            " extracting: data/state_event_25_order_01.csv  \n",
            " extracting: data/state_event_14_order_06.csv  \n",
            " extracting: data/state_event_31_order_01.csv  \n",
            " extracting: data/state_event_14_order_03.csv  \n",
            " extracting: data/state_event_13_order_06.csv  \n",
            " extracting: data/state_event_30_order_08.csv  \n",
            " extracting: data/state_event_59_order_08.csv  \n",
            " extracting: data/state_event_35_order_09.csv  \n",
            " extracting: data/state_event_14_order_08.csv  \n",
            " extracting: data/state_event_30_order_02.csv  \n",
            " extracting: data/state_event_12_order_09.csv  \n",
            " extracting: data/state_event_22_order_05.csv  \n",
            " extracting: data/state_event_22_order_06.csv  \n",
            " extracting: data/state_event_40_order_08.csv  \n",
            " extracting: data/state_event_61_order_06.csv  \n",
            " extracting: data/state_event_22_order_08.csv  \n",
            " extracting: data/state_event_61_order_08.csv  \n",
            " extracting: data/state_event_61_order_03.csv  \n",
            " extracting: data/state_event_35_order_01.csv  \n",
            " extracting: data/state_event_22_order_09.csv  \n",
            " extracting: data/state_event_12_order_02.csv  \n",
            " extracting: data/state_event_25_order_06.csv  \n",
            " extracting: data/state_event_56_order_02.csv  \n",
            " extracting: data/state_event_59_order_06.csv  \n",
            " extracting: data/state_event_14_order_09.csv  \n",
            " extracting: data/distance_event_31_order_01.csv  \n",
            " extracting: data/distance_event_14_order_04.csv  \n",
            " extracting: data/distance_event_56_order_09.csv  \n",
            " extracting: data/distance_event_15_order_09.csv  \n",
            " extracting: data/distance_event_59_order_08.csv  \n",
            " extracting: data/distance_event_25_order_09.csv  \n",
            " extracting: data/distance_event_59_order_05.csv  \n",
            " extracting: data/distance_event_61_order_03.csv  \n",
            " extracting: data/distance_event_56_order_04.csv  \n",
            " extracting: data/distance_event_61_order_04.csv  \n",
            " extracting: data/distance_event_31_order_02.csv  \n",
            " extracting: data/distance_event_22_order_08.csv  \n",
            " extracting: data/distance_event_61_order_08.csv  \n",
            " extracting: data/distance_event_40_order_01.csv  \n",
            " extracting: data/distance_event_31_order_07.csv  \n",
            " extracting: data/distance_event_34_order_06.csv  \n",
            " extracting: data/distance_event_15_order_08.csv  \n",
            " extracting: data/distance_event_14_order_01.csv  \n",
            " extracting: data/distance_event_40_order_09.csv  \n",
            " extracting: data/distance_event_14_order_05.csv  \n",
            " extracting: data/distance_event_15_order_06.csv  \n",
            " extracting: data/distance_event_56_order_03.csv  \n",
            " extracting: data/distance_event_35_order_06.csv  \n",
            " extracting: data/distance_event_30_order_04.csv  \n",
            " extracting: data/distance_event_40_order_06.csv  \n",
            " extracting: data/distance_event_35_order_03.csv  \n",
            " extracting: data/distance_event_30_order_06.csv  \n",
            " extracting: data/distance_event_40_order_03.csv  \n",
            " extracting: data/distance_event_59_order_07.csv  \n",
            " extracting: data/distance_event_34_order_04.csv  \n",
            " extracting: data/distance_event_56_order_06.csv  \n",
            " extracting: data/distance_event_56_order_05.csv  \n",
            " extracting: data/distance_event_35_order_07.csv  \n",
            " extracting: data/distance_event_30_order_09.csv  \n",
            " extracting: data/distance_event_61_order_09.csv  \n",
            " extracting: data/distance_event_12_order_02.csv  \n",
            " extracting: data/distance_event_31_order_05.csv  \n",
            " extracting: data/distance_event_15_order_02.csv  \n",
            " extracting: data/distance_event_40_order_02.csv  \n",
            " extracting: data/distance_event_13_order_03.csv  \n",
            " extracting: data/distance_event_13_order_09.csv  \n",
            " extracting: data/distance_event_25_order_06.csv  \n",
            " extracting: data/distance_event_12_order_01.csv  \n",
            " extracting: data/distance_event_56_order_07.csv  \n",
            " extracting: data/distance_event_13_order_05.csv  \n",
            " extracting: data/distance_event_22_order_07.csv  \n",
            " extracting: data/distance_event_30_order_03.csv  \n",
            " extracting: data/distance_event_12_order_04.csv  \n",
            " extracting: data/distance_event_15_order_04.csv  \n",
            " extracting: data/distance_event_31_order_04.csv  \n",
            " extracting: data/distance_event_34_order_01.csv  \n",
            " extracting: data/distance_event_61_order_07.csv  \n",
            " extracting: data/distance_event_15_order_05.csv  \n",
            " extracting: data/distance_event_12_order_09.csv  \n",
            " extracting: data/distance_event_25_order_01.csv  \n",
            " extracting: data/distance_event_59_order_09.csv  \n",
            " extracting: data/distance_event_35_order_04.csv  \n",
            " extracting: data/distance_event_59_order_01.csv  \n",
            " extracting: data/distance_event_61_order_01.csv  \n",
            " extracting: data/distance_event_22_order_05.csv  \n",
            " extracting: data/distance_event_35_order_08.csv  \n",
            " extracting: data/distance_event_13_order_01.csv  \n",
            " extracting: data/distance_event_14_order_07.csv  \n",
            " extracting: data/distance_event_12_order_08.csv  \n",
            " extracting: data/distance_event_40_order_07.csv  \n",
            " extracting: data/distance_event_59_order_06.csv  \n",
            " extracting: data/distance_event_12_order_06.csv  \n",
            " extracting: data/distance_event_25_order_04.csv  \n",
            " extracting: data/distance_event_61_order_02.csv  \n",
            " extracting: data/distance_event_59_order_03.csv  \n",
            " extracting: data/distance_event_22_order_04.csv  \n",
            " extracting: data/distance_event_30_order_01.csv  \n",
            " extracting: data/distance_event_30_order_08.csv  \n",
            " extracting: data/distance_event_35_order_01.csv  \n",
            " extracting: data/distance_event_34_order_08.csv  \n",
            " extracting: data/distance_event_40_order_04.csv  \n",
            " extracting: data/distance_event_56_order_08.csv  \n",
            " extracting: data/distance_event_34_order_03.csv  \n",
            " extracting: data/distance_event_12_order_03.csv  \n",
            " extracting: data/distance_event_34_order_05.csv  \n",
            " extracting: data/distance_event_12_order_07.csv  \n",
            " extracting: data/distance_event_14_order_08.csv  \n",
            " extracting: data/distance_event_25_order_05.csv  \n",
            " extracting: data/distance_event_14_order_02.csv  \n",
            " extracting: data/distance_event_15_order_03.csv  \n",
            " extracting: data/distance_event_34_order_09.csv  \n",
            " extracting: data/distance_event_61_order_05.csv  \n",
            " extracting: data/distance_event_13_order_07.csv  \n",
            " extracting: data/distance_event_14_order_09.csv  \n",
            " extracting: data/distance_event_22_order_01.csv  \n",
            " extracting: data/distance_event_59_order_02.csv  \n",
            " extracting: data/distance_event_31_order_06.csv  \n",
            " extracting: data/distance_event_59_order_04.csv  \n",
            " extracting: data/distance_event_40_order_08.csv  \n",
            " extracting: data/distance_event_22_order_06.csv  \n",
            " extracting: data/distance_event_25_order_02.csv  \n",
            " extracting: data/distance_event_35_order_02.csv  \n",
            " extracting: data/distance_event_22_order_03.csv  \n",
            " extracting: data/distance_event_30_order_02.csv  \n",
            " extracting: data/distance_event_30_order_07.csv  \n",
            " extracting: data/distance_event_15_order_07.csv  \n",
            " extracting: data/distance_event_30_order_05.csv  \n",
            " extracting: data/distance_event_14_order_03.csv  \n",
            " extracting: data/distance_event_56_order_02.csv  \n",
            " extracting: data/distance_event_35_order_09.csv  \n",
            " extracting: data/distance_event_56_order_01.csv  \n",
            " extracting: data/distance_event_13_order_06.csv  \n",
            " extracting: data/distance_event_14_order_06.csv  \n",
            " extracting: data/distance_event_25_order_03.csv  \n",
            " extracting: data/distance_event_61_order_06.csv  \n",
            " extracting: data/distance_event_31_order_09.csv  \n",
            " extracting: data/distance_event_22_order_02.csv  \n",
            " extracting: data/distance_event_35_order_05.csv  \n",
            " extracting: data/distance_event_31_order_03.csv  \n",
            " extracting: data/distance_event_34_order_07.csv  \n",
            " extracting: data/distance_event_13_order_08.csv  \n",
            " extracting: data/distance_event_25_order_08.csv  \n",
            " extracting: data/distance_event_31_order_08.csv  \n",
            " extracting: data/distance_event_15_order_01.csv  \n",
            " extracting: data/distance_event_13_order_04.csv  \n",
            " extracting: data/distance_event_12_order_05.csv  \n",
            " extracting: data/distance_event_22_order_09.csv  \n",
            " extracting: data/distance_event_13_order_02.csv  \n",
            " extracting: data/distance_event_40_order_05.csv  \n",
            " extracting: data/distance_event_25_order_07.csv  \n",
            " extracting: data/distance_event_34_order_02.csv  \n"
          ],
          "name": "stdout"
        }
      ]
    },
    {
      "cell_type": "code",
      "metadata": {
        "id": "oZf4qcnD7bgK",
        "colab_type": "code",
        "colab": {}
      },
      "source": [
        "events = []\n",
        "for file in glob.glob(\"data/distance*.csv\"):\n",
        "    x = file.split(\"_\")[2]\n",
        "    if x not in events: \n",
        "        events.append(x) \n",
        "    \n",
        "events.sort()\n"
      ],
      "execution_count": 0,
      "outputs": []
    },
    {
      "cell_type": "code",
      "metadata": {
        "id": "JpLdWxlE-8an",
        "colab_type": "code",
        "colab": {}
      },
      "source": [
        "\n",
        "N = 9 # have to fix this for variable sized groups\n",
        "\n",
        "X1 = []\n",
        "X2 = []\n",
        "Y = []\n",
        "\n",
        "for e in events:\n",
        "    \n",
        "    states = np.zeros(N)\n",
        "    \n",
        "    \n",
        "    for i in range(N):\n",
        "\n",
        "        dist_file = \"data/distance_event_\" + e + \"_order_0\" + str(i+1) + \".csv\"\n",
        "        state_file = \"data/state_event_\" + e + \"_order_0\" + str(i+1) + \".csv\"\n",
        "\n",
        "        dist_data = np.genfromtxt(dist_file, delimiter=',')[1:,1:]\n",
        "        state_data = np.genfromtxt(state_file, delimiter=',')[1:,1]\n",
        "\n",
        "        dist_data2 = np.zeros((N,N))\n",
        "\n",
        "        dist_data2[:dist_data.shape[0],:dist_data.shape[1]] = dist_data[:]\n",
        "        \n",
        "        j = np.nonzero(states-state_data)[0][0]\n",
        "\n",
        "        depart = np.zeros(N)\n",
        "        depart[j] = 1\n",
        "        X1.append(states.copy())\n",
        "        X2.append(dist_data2)\n",
        "        Y.append(depart)\n",
        "        states[j]=1\n",
        "\n",
        "    \n",
        "    \n",
        "X1 = np.array(X1)\n",
        "X2 = np.array(X2)\n",
        "Y = np.array(Y)\n"
      ],
      "execution_count": 0,
      "outputs": []
    },
    {
      "cell_type": "code",
      "metadata": {
        "id": "9-yNp2KwBaVD",
        "colab_type": "code",
        "outputId": "1ceb6c41-2b59-4d8d-8225-6cf832f064e3",
        "colab": {
          "base_uri": "https://localhost:8080/",
          "height": 34
        }
      },
      "source": [
        "X2.shape"
      ],
      "execution_count": 5,
      "outputs": [
        {
          "output_type": "execute_result",
          "data": {
            "text/plain": [
              "(126, 9, 9)"
            ]
          },
          "metadata": {
            "tags": []
          },
          "execution_count": 5
        }
      ]
    },
    {
      "cell_type": "code",
      "metadata": {
        "colab_type": "code",
        "id": "pbmCM0V3K3mh",
        "colab": {}
      },
      "source": [
        "# from google.colab import drive\n",
        "# drive.mount('/content/drive')"
      ],
      "execution_count": 0,
      "outputs": []
    },
    {
      "cell_type": "code",
      "metadata": {
        "id": "05rhF2DIebsp",
        "colab_type": "code",
        "colab": {}
      },
      "source": [
        "# order = np.load('drive/My Drive/orderings.npy')\n",
        "# distances = np.load('drive/My Drive/distances.npy')\n",
        "# social = np.load('drive/My Drive/social.npy')"
      ],
      "execution_count": 0,
      "outputs": []
    },
    {
      "cell_type": "code",
      "metadata": {
        "id": "5pM90FnLebs2",
        "colab_type": "code",
        "colab": {}
      },
      "source": [
        "# N = order.shape[0]\n",
        "# iters = order.shape[1]"
      ],
      "execution_count": 0,
      "outputs": []
    },
    {
      "cell_type": "code",
      "metadata": {
        "id": "jWaJuSBGebtF",
        "colab_type": "code",
        "colab": {}
      },
      "source": [
        "# X1 = []\n",
        "# X2 = []\n",
        "# Y = []\n",
        "\n",
        "# for t in range(iters):\n",
        "    \n",
        "#     states = np.zeros(N)\n",
        "    \n",
        "    \n",
        "#     for i in range(N):\n",
        "#         j = int(order[i,t])\n",
        "#         depart = np.zeros(N)\n",
        "#         depart[j] = 1\n",
        "#         X1.append(states.copy())\n",
        "#         X2.append(distances[t])\n",
        "#         Y.append(depart)\n",
        "#         states[j]=1\n",
        "        \n",
        "    \n",
        "    \n",
        "# X1 = np.array(X1)\n",
        "# X2 = np.array(X2)\n",
        "# Y = np.array(Y)"
      ],
      "execution_count": 0,
      "outputs": []
    },
    {
      "cell_type": "code",
      "metadata": {
        "id": "8Riwvq4coPHQ",
        "colab_type": "code",
        "colab": {}
      },
      "source": [
        "states = tf.convert_to_tensor(X1)\n",
        "states = tf.expand_dims(states,-1)\n",
        "dists = tf.convert_to_tensor(X2)\n",
        "labels = tf.convert_to_tensor(Y)\n",
        "\n",
        "\n",
        "@tf.function\n",
        "def calc_loss(in_w1, in_S):\n",
        "    D = in_w1*tf.exp(-dists)\n",
        "\n",
        "    S = (in_S)\n",
        "    logits = tf.matmul(S,states) + tf.matmul(D,states) # +in_b - no constant required because the softmax function means someone has to be next\n",
        "    soft_denom = tf.reduce_sum(tf.where(states==0,tf.exp(logits),0),axis=1)\n",
        "    soft_denom = tf.expand_dims(soft_denom,-1)\n",
        "    softmax = tf.where(states==0,tf.exp(logits) / soft_denom ,0)\n",
        "\n",
        "    softmax = tf.squeeze(softmax)\n",
        "    cross_entropy = -tf.reduce_sum(labels * tf.math.log(softmax + 1e-10), 1)\n",
        "\n",
        "    loss = tf.reduce_mean(cross_entropy)\n",
        "    return loss"
      ],
      "execution_count": 0,
      "outputs": []
    },
    {
      "cell_type": "code",
      "metadata": {
        "id": "VEGn5WAzogB8",
        "colab_type": "code",
        "colab": {}
      },
      "source": [
        "optimizer = tf.keras.optimizers.Adam(lr=1e-2)\n"
      ],
      "execution_count": 0,
      "outputs": []
    },
    {
      "cell_type": "code",
      "metadata": {
        "id": "LQsTIp12vnh7",
        "colab_type": "code",
        "colab": {}
      },
      "source": [
        "\n",
        "S1 = tf.Variable(tf.random.normal(shape=(N,N ), dtype=tf.float64))\n",
        "w1 = tf.Variable(tf.random.normal(shape=(1, ), dtype=tf.float64))\n",
        "#b  = tf.Variable(tf.random.normal(shape=(1,), dtype=tf.float64))\n",
        "\n",
        "loss_history=[]\n",
        "weight_history=[]\n",
        "#b_history=[]\n",
        "S_history=[]\n",
        "def train_step():\n",
        "    with tf.GradientTape() as tape:\n",
        "    \n",
        "        loss_value = calc_loss(w1,S1)\n",
        "\n",
        "    \n",
        "    loss_history.append(loss_value.numpy())\n",
        "    weight_history.append(w1.numpy())\n",
        "    S_history.append(S1.numpy())\n",
        "    #b_history.append(b.numpy())\n",
        "    grads = tape.gradient(loss_value, [w1,S1])\n",
        "    optimizer.apply_gradients(zip(grads, [w1,S1]))\n"
      ],
      "execution_count": 0,
      "outputs": []
    },
    {
      "cell_type": "code",
      "metadata": {
        "id": "NQGjYpvftuir",
        "colab_type": "code",
        "colab": {}
      },
      "source": [
        "for i in range(30000):\n",
        "    train_step()"
      ],
      "execution_count": 0,
      "outputs": []
    },
    {
      "cell_type": "code",
      "metadata": {
        "id": "z63RhbZTt7JB",
        "colab_type": "code",
        "outputId": "b64d50f5-972c-4477-a323-d27c252eab74",
        "colab": {
          "base_uri": "https://localhost:8080/",
          "height": 276
        }
      },
      "source": [
        "\n",
        "\n",
        "plt.show()"
      ],
      "execution_count": 14,
      "outputs": [
        {
          "output_type": "display_data",
          "data": {
            "image/png": "[encoded data removed]",
            "text/plain": [
              "<Figure size 432x288 with 1 Axes>"
            ]
          },
          "metadata": {
            "tags": []
          }
        }
      ]
    },
    {
      "cell_type": "code",
      "metadata": {
        "id": "dOTeDGdAuM8Y",
        "colab_type": "code",
        "outputId": "82708c3c-3a25-4b13-d5e1-11fd18e574e7",
        "colab": {
          "base_uri": "https://localhost:8080/",
          "height": 265
        }
      },
      "source": [
        "finalS = S_history[-1]\n",
        "np.fill_diagonal(finalS,0)\n",
        "\n",
        "plt.imshow(finalS)\n",
        "plt.colorbar()\n",
        "plt.show()\n"
      ],
      "execution_count": 15,
      "outputs": [
        {
          "output_type": "display_data",
          "data": {
            "image/png": "[encoded data removed]",
            "text/plain": [
              "<Figure size 432x288 with 2 Axes>"
            ]
          },
          "metadata": {
            "tags": []
          }
        }
      ]
    },
    {
      "cell_type": "code",
      "metadata": {
        "id": "hZrZuchV4xsv",
        "colab_type": "code",
        "outputId": "8d039916-8876-492e-8051-a53628d8f248",
        "colab": {
          "base_uri": "https://localhost:8080/",
          "height": 191
        }
      },
      "source": [
        "b_history[0:10]"
      ],
      "execution_count": 19,
      "outputs": [
        {
          "output_type": "execute_result",
          "data": {
            "text/plain": [
              "[array([0.76315549]),\n",
              " array([0.76315549]),\n",
              " array([0.76315549]),\n",
              " array([0.76315549]),\n",
              " array([0.76315549]),\n",
              " array([0.76315549]),\n",
              " array([0.76315549]),\n",
              " array([0.76315549]),\n",
              " array([0.76315549]),\n",
              " array([0.76315549])]"
            ]
          },
          "metadata": {
            "tags": []
          },
          "execution_count": 19
        }
      ]
    },
    {
      "cell_type": "code",
      "metadata": {
        "id": "7CDBaXRN--ec",
        "colab_type": "code",
        "colab": {
          "base_uri": "https://localhost:8080/",
          "height": 34
        },
        "outputId": "13fb28d4-2db3-4266-b2a6-f92a1c7a01b8"
      },
      "source": [
        "weight_history[-1]"
      ],
      "execution_count": 17,
      "outputs": [
        {
          "output_type": "execute_result",
          "data": {
            "text/plain": [
              "array([2.99041854])"
            ]
          },
          "metadata": {
            "tags": []
          },
          "execution_count": 17
        }
      ]
    },
    {
      "cell_type": "code",
      "metadata": {
        "id": "0j4_ccw-Nf-h",
        "colab_type": "code",
        "colab": {}
      },
      "source": [
        ""
      ],
      "execution_count": 0,
      "outputs": []
    }
  ]
}