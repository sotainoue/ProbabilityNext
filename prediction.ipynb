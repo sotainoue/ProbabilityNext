{
  "nbformat": 4,
  "nbformat_minor": 0,
  "metadata": {
    "kernelspec": {
      "name": "python3",
      "display_name": "Python 3"
    },
    "language_info": {
      "codemirror_mode": {
        "name": "ipython",
        "version": 3
      },
      "file_extension": ".py",
      "mimetype": "text/x-python",
      "name": "python",
      "nbconvert_exporter": "python",
      "pygments_lexer": "ipython3",
      "version": "3.6.8"
    },
    "widgets": {
      "state": {},
      "version": "1.1.0"
    },
    "colab": {
      "name": "prediction.ipynb",
      "provenance": []
    },
    "accelerator": "GPU"
  },
  "cells": [
    {
      "cell_type": "code",
      "metadata": {
        "id": "5aDdmQubebsY",
        "colab_type": "code",
        "colab": {
          "base_uri": "https://localhost:8080/",
          "height": 34
        },
        "outputId": "7c10b94f-df2f-4f97-c12f-4f54c7aabbd8"
      },
      "source": [
        "%tensorflow_version 2.x\n",
        "\n",
        "import numpy as np\n",
        "import matplotlib.pyplot as plt\n",
        "\n",
        "import tensorflow as tf"
      ],
      "execution_count": 5,
      "outputs": [
        {
          "output_type": "stream",
          "text": [
            "TensorFlow 2.x selected.\n"
          ],
          "name": "stdout"
        }
      ]
    },
    {
      "cell_type": "code",
      "metadata": {
        "id": "dhkrfwPAfJ-n",
        "colab_type": "code",
        "colab": {
          "base_uri": "https://localhost:8080/",
          "height": 124
        },
        "outputId": "d65c7df8-22a7-447d-b616-120665ef0c90"
      },
      "source": [
        "from google.colab import drive\n",
        "drive.mount('/content/drive')"
      ],
      "execution_count": 8,
      "outputs": [
        {
          "output_type": "stream",
          "text": [
            "Go to this URL in a browser: https://accounts.google.com/o/oauth2/auth?client_id=947318989803-6bn6qk8qdgf4n4g3pfee6491hc0brc4i.apps.googleusercontent.com&redirect_uri=urn%3Aietf%3Awg%3Aoauth%3A2.0%3Aoob&scope=email%20https%3A%2F%2Fwww.googleapis.com%2Fauth%2Fdocs.test%20https%3A%2F%2Fwww.googleapis.com%2Fauth%2Fdrive%20https%3A%2F%2Fwww.googleapis.com%2Fauth%2Fdrive.photos.readonly%20https%3A%2F%2Fwww.googleapis.com%2Fauth%2Fpeopleapi.readonly&response_type=code\n",
            "\n",
            "Enter your authorization code:\n",
            "··········\n",
            "Mounted at /content/drive\n"
          ],
          "name": "stdout"
        }
      ]
    },
    {
      "cell_type": "code",
      "metadata": {
        "id": "05rhF2DIebsp",
        "colab_type": "code",
        "colab": {}
      },
      "source": [
        "order = np.load('drive/My Drive/orderings.npy')\n",
        "distances = np.load('drive/My Drive/distances.npy')\n",
        "social = np.load('drive/My Drive/social.npy')"
      ],
      "execution_count": 0,
      "outputs": []
    },
    {
      "cell_type": "code",
      "metadata": {
        "id": "5pM90FnLebs2",
        "colab_type": "code",
        "colab": {}
      },
      "source": [
        "N = order.shape[0]\n",
        "iters = order.shape[1]"
      ],
      "execution_count": 0,
      "outputs": []
    },
    {
      "cell_type": "code",
      "metadata": {
        "id": "jWaJuSBGebtF",
        "colab_type": "code",
        "colab": {}
      },
      "source": [
        "X1 = []\n",
        "X2 = []\n",
        "Y = []\n",
        "\n",
        "for t in range(iters):\n",
        "    \n",
        "    states = np.zeros(N)\n",
        "    \n",
        "    \n",
        "    for i in range(N):\n",
        "        j = int(order[i,t])\n",
        "        depart = np.zeros(N)\n",
        "        depart[j] = 1\n",
        "        X1.append(states.copy())\n",
        "        X2.append(distances[t])\n",
        "        Y.append(depart)\n",
        "        states[j]=1\n",
        "        \n",
        "    \n",
        "    \n",
        "X1 = np.array(X1)\n",
        "X2 = np.array(X2)\n",
        "Y = np.array(Y)"
      ],
      "execution_count": 0,
      "outputs": []
    },
    {
      "cell_type": "code",
      "metadata": {
        "id": "kv6OjSvVebtQ",
        "colab_type": "code",
        "colab": {
          "base_uri": "https://localhost:8080/",
          "height": 34
        },
        "outputId": "3e3855f5-46d2-4023-b30e-81a1e37c912a"
      },
      "source": [
        "Y[1]"
      ],
      "execution_count": 23,
      "outputs": [
        {
          "output_type": "execute_result",
          "data": {
            "text/plain": [
              "array([0., 0., 0., 0., 0., 1., 0., 0., 0.])"
            ]
          },
          "metadata": {
            "tags": []
          },
          "execution_count": 23
        }
      ]
    },
    {
      "cell_type": "code",
      "metadata": {
        "id": "gtRB5ZlYebtb",
        "colab_type": "code",
        "colab": {
          "base_uri": "https://localhost:8080/",
          "height": 34
        },
        "outputId": "c75867e1-c043-490e-b991-f76375408cd1"
      },
      "source": [
        "\n",
        "w1 = tf.Variable(tf.random.normal(shape=(1, ), dtype=tf.float64))\n",
        "b  = tf.Variable(tf.random.normal(shape=(1,), dtype=tf.float64))"
      ],
      "execution_count": 24,
      "outputs": [
        {
          "output_type": "execute_result",
          "data": {
            "text/plain": [
              "array([0., 0., 0., 0., 0., 0., 0., 0., 1.])"
            ]
          },
          "metadata": {
            "tags": []
          },
          "execution_count": 24
        }
      ]
    },
    {
      "cell_type": "code",
      "metadata": {
        "id": "Dv7Dvgdcebtp",
        "colab_type": "code",
        "colab": {}
      },
      "source": [
        "states = tf.convert_to_tensor(X1)\n",
        "states = tf.expand_dims(states,-1)\n",
        "\n",
        "dists = tf.convert_to_tensor(X2)\n",
        "\n",
        "labels = tf.convert_to_tensor(Y)\n",
        "\n"
      ],
      "execution_count": 0,
      "outputs": []
    },
    {
      "cell_type": "code",
      "metadata": {
        "id": "AG0eHD7zn-rL",
        "colab_type": "code",
        "colab": {}
      },
      "source": [
        "D = w1*tf.exp(-dists)"
      ],
      "execution_count": 0,
      "outputs": []
    },
    {
      "cell_type": "code",
      "metadata": {
        "id": "hhGhXzNYoB6Y",
        "colab_type": "code",
        "colab": {}
      },
      "source": [
        "logits = tf.matmul(D,states)+b"
      ],
      "execution_count": 0,
      "outputs": []
    },
    {
      "cell_type": "code",
      "metadata": {
        "id": "8Riwvq4coPHQ",
        "colab_type": "code",
        "colab": {}
      },
      "source": [
        "\n",
        "soft_denom = tf.reduce_sum(tf.where(states==0,tf.exp(logits),0),axis=1)\n",
        "soft_denom = tf.expand_dims(soft_denom,-1)\n",
        "softmax = tf.where(states==0,tf.exp(logits) / soft_denom ,0)\n",
        "\n",
        "softmax = tf.squeeze(softmax)\n",
        "bb = labels * tf.math.log(softmax+ 1e-10)\n",
        "xent = -tf.reduce_sum(labels * tf.math.log(softmax + 1e-10), 1)\n",
        "\n",
        "loss = tf.reduce_mean(xent)"
      ],
      "execution_count": 0,
      "outputs": []
    },
    {
      "cell_type": "code",
      "metadata": {
        "id": "VEGn5WAzogB8",
        "colab_type": "code",
        "colab": {
          "base_uri": "https://localhost:8080/",
          "height": 34
        },
        "outputId": "69ad3b05-95bc-4c27-d79e-90c6ab70cf1b"
      },
      "source": [
        "loss"
      ],
      "execution_count": 100,
      "outputs": [
        {
          "output_type": "execute_result",
          "data": {
            "text/plain": [
              "<tf.Tensor: id=338, shape=(), dtype=float64, numpy=1.635649876504253>"
            ]
          },
          "metadata": {
            "tags": []
          },
          "execution_count": 100
        }
      ]
    },
    {
      "cell_type": "code",
      "metadata": {
        "id": "LQsTIp12vnh7",
        "colab_type": "code",
        "colab": {
          "base_uri": "https://localhost:8080/",
          "height": 173
        },
        "outputId": "1b72cb91-3112-4671-a2b6-5e14f929afaa"
      },
      "source": [
        "bb[1]"
      ],
      "execution_count": 78,
      "outputs": [
        {
          "output_type": "execute_result",
          "data": {
            "text/plain": [
              "array([[0.11550068],\n",
              "       [0.11383899],\n",
              "       [0.14128396],\n",
              "       [0.12870218],\n",
              "       [0.11185025],\n",
              "       [0.13632296],\n",
              "       [0.11616523],\n",
              "       [0.13633574],\n",
              "       [0.        ]])"
            ]
          },
          "metadata": {
            "tags": []
          },
          "execution_count": 78
        }
      ]
    },
    {
      "cell_type": "code",
      "metadata": {
        "id": "NQGjYpvftuir",
        "colab_type": "code",
        "colab": {
          "base_uri": "https://localhost:8080/",
          "height": 173
        },
        "outputId": "439b0dcf-ed58-4ca4-e492-667e27a03c1d"
      },
      "source": [
        "aa"
      ],
      "execution_count": 57,
      "outputs": [
        {
          "output_type": "execute_result",
          "data": {
            "text/plain": [
              "array([[0.11550068],\n",
              "       [0.11383899],\n",
              "       [0.14128396],\n",
              "       [0.12870218],\n",
              "       [0.11185025],\n",
              "       [0.13632296],\n",
              "       [0.11616523],\n",
              "       [0.13633574],\n",
              "       [0.        ]])"
            ]
          },
          "metadata": {
            "tags": []
          },
          "execution_count": 57
        }
      ]
    },
    {
      "cell_type": "code",
      "metadata": {
        "id": "z63RhbZTt7JB",
        "colab_type": "code",
        "colab": {
          "base_uri": "https://localhost:8080/",
          "height": 330
        },
        "outputId": "140f464a-59b4-490d-a104-6bda4d49ea24"
      },
      "source": [
        "dists"
      ],
      "execution_count": 58,
      "outputs": [
        {
          "output_type": "execute_result",
          "data": {
            "text/plain": [
              "array([[0.        , 0.46518716, 0.67781613, 0.56436899, 0.41829771,\n",
              "        0.34669432, 0.29267234, 0.27925955, 0.44884994],\n",
              "       [0.46518716, 0.        , 1.08806745, 0.93590849, 0.04708439,\n",
              "        0.81015801, 0.68673588, 0.6769249 , 0.42782326],\n",
              "       [0.67781613, 1.08806745, 0.        , 0.18165458, 1.04305953,\n",
              "        0.49076045, 0.40267227, 0.72051491, 0.79906245],\n",
              "       [0.56436899, 0.93590849, 0.18165458, 0.        , 0.89253997,\n",
              "        0.47524038, 0.27206278, 0.67336673, 0.62165055],\n",
              "       [0.41829771, 0.04708439, 1.04305953, 0.89253997, 0.        ,\n",
              "        0.76358053, 0.64126736, 0.63406523, 0.40283276],\n",
              "       [0.34669432, 0.81015801, 0.49076045, 0.47524038, 0.76358053,\n",
              "        0.        , 0.31850925, 0.23956262, 0.72730428],\n",
              "       [0.29267234, 0.68673588, 0.40267227, 0.27206278, 0.64126736,\n",
              "        0.31850925, 0.        , 0.44578711, 0.45729812],\n",
              "       [0.27925955, 0.6769249 , 0.72051491, 0.67336673, 0.63406523,\n",
              "        0.23956262, 0.44578711, 0.        , 0.72748588],\n",
              "       [0.44884994, 0.42782326, 0.79906245, 0.62165055, 0.40283276,\n",
              "        0.72730428, 0.45729812, 0.72748588, 0.        ]])"
            ]
          },
          "metadata": {
            "tags": []
          },
          "execution_count": 58
        }
      ]
    },
    {
      "cell_type": "code",
      "metadata": {
        "id": "dOTeDGdAuM8Y",
        "colab_type": "code",
        "colab": {}
      },
      "source": [
        ""
      ],
      "execution_count": 0,
      "outputs": []
    }
  ]
}