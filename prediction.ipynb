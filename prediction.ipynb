{
  "nbformat": 4,
  "nbformat_minor": 0,
  "metadata": {
    "kernelspec": {
      "name": "python3",
      "display_name": "Python 3"
    },
    "language_info": {
      "codemirror_mode": {
        "name": "ipython",
        "version": 3
      },
      "file_extension": ".py",
      "mimetype": "text/x-python",
      "name": "python",
      "nbconvert_exporter": "python",
      "pygments_lexer": "ipython3",
      "version": "3.6.8"
    },
    "widgets": {
      "state": {},
      "version": "1.1.0"
    },
    "colab": {
      "name": "prediction.ipynb",
      "provenance": []
    },
    "accelerator": "GPU"
  },
  "cells": [
    {
      "cell_type": "code",
      "metadata": {
        "id": "5aDdmQubebsY",
        "colab_type": "code",
        "colab": {
          "base_uri": "https://localhost:8080/",
          "height": 34
        },
        "outputId": "7c10b94f-df2f-4f97-c12f-4f54c7aabbd8"
      },
      "source": [
        "%tensorflow_version 2.x\n",
        "\n",
        "import numpy as np\n",
        "import matplotlib.pyplot as plt\n",
        "\n",
        "import tensorflow as tf"
      ],
      "execution_count": 5,
      "outputs": [
        {
          "output_type": "stream",
          "text": [
            "TensorFlow 2.x selected.\n"
          ],
          "name": "stdout"
        }
      ]
    },
    {
      "cell_type": "code",
      "metadata": {
        "id": "dhkrfwPAfJ-n",
        "colab_type": "code",
        "colab": {
          "base_uri": "https://localhost:8080/",
          "height": 124
        },
        "outputId": "d65c7df8-22a7-447d-b616-120665ef0c90"
      },
      "source": [
        "from google.colab import drive\n",
        "drive.mount('/content/drive')"
      ],
      "execution_count": 8,
      "outputs": [
        {
          "output_type": "stream",
          "text": [
            "Go to this URL in a browser: https://accounts.google.com/o/oauth2/auth?client_id=947318989803-6bn6qk8qdgf4n4g3pfee6491hc0brc4i.apps.googleusercontent.com&redirect_uri=urn%3Aietf%3Awg%3Aoauth%3A2.0%3Aoob&scope=email%20https%3A%2F%2Fwww.googleapis.com%2Fauth%2Fdocs.test%20https%3A%2F%2Fwww.googleapis.com%2Fauth%2Fdrive%20https%3A%2F%2Fwww.googleapis.com%2Fauth%2Fdrive.photos.readonly%20https%3A%2F%2Fwww.googleapis.com%2Fauth%2Fpeopleapi.readonly&response_type=code\n",
            "\n",
            "Enter your authorization code:\n",
            "··········\n",
            "Mounted at /content/drive\n"
          ],
          "name": "stdout"
        }
      ]
    },
    {
      "cell_type": "code",
      "metadata": {
        "id": "05rhF2DIebsp",
        "colab_type": "code",
        "colab": {}
      },
      "source": [
        "order = np.load('drive/My Drive/orderings.npy')\n",
        "distances = np.load('drive/My Drive/distances.npy')\n",
        "social = np.load('drive/My Drive/social.npy')"
      ],
      "execution_count": 0,
      "outputs": []
    },
    {
      "cell_type": "code",
      "metadata": {
        "id": "5pM90FnLebs2",
        "colab_type": "code",
        "colab": {}
      },
      "source": [
        "N = order.shape[0]\n",
        "iters = order.shape[1]"
      ],
      "execution_count": 0,
      "outputs": []
    },
    {
      "cell_type": "code",
      "metadata": {
        "id": "jWaJuSBGebtF",
        "colab_type": "code",
        "colab": {}
      },
      "source": [
        "X1 = []\n",
        "X2 = []\n",
        "Y = []\n",
        "\n",
        "for t in range(iters):\n",
        "    \n",
        "    states = np.zeros(N)\n",
        "    \n",
        "    \n",
        "    for i in range(N):\n",
        "        j = int(order[i,t])\n",
        "        depart = np.zeros(N)\n",
        "        depart[j] = 1\n",
        "        X1.append(states.copy())\n",
        "        X2.append(distances[t])\n",
        "        Y.append(depart)\n",
        "        states[j]=1\n",
        "        \n",
        "    \n",
        "    \n",
        "X1 = np.array(X1)\n",
        "X2 = np.array(X2)\n",
        "Y = np.array(Y)"
      ],
      "execution_count": 0,
      "outputs": []
    },
    {
      "cell_type": "code",
      "metadata": {
        "id": "8Riwvq4coPHQ",
        "colab_type": "code",
        "colab": {}
      },
      "source": [
        "states = tf.convert_to_tensor(X1)\n",
        "states = tf.expand_dims(states,-1)\n",
        "dists = tf.convert_to_tensor(X2)\n",
        "labels = tf.convert_to_tensor(Y)\n",
        "\n",
        "\n",
        "@tf.function\n",
        "def calc_loss(in_w1, in_S, in_b):\n",
        "    D = in_w1*tf.exp(-dists)\n",
        "\n",
        "    S = (in_S)\n",
        "    logits = tf.matmul(S,states) + tf.matmul(D,states)+in_b\n",
        "    soft_denom = tf.reduce_sum(tf.where(states==0,tf.exp(logits),0),axis=1)\n",
        "    soft_denom = tf.expand_dims(soft_denom,-1)\n",
        "    softmax = tf.where(states==0,tf.exp(logits) / soft_denom ,0)\n",
        "\n",
        "    softmax = tf.squeeze(softmax)\n",
        "    bb = labels * tf.math.log(softmax+ 1e-10)\n",
        "    cross_entropy = -tf.reduce_sum(labels * tf.math.log(softmax + 1e-10), 1)\n",
        "\n",
        "    loss = tf.reduce_mean(cross_entropy)\n",
        "    return loss"
      ],
      "execution_count": 0,
      "outputs": []
    },
    {
      "cell_type": "code",
      "metadata": {
        "id": "VEGn5WAzogB8",
        "colab_type": "code",
        "colab": {}
      },
      "source": [
        "optimizer = tf.keras.optimizers.Adam(lr=1e-2)\n"
      ],
      "execution_count": 0,
      "outputs": []
    },
    {
      "cell_type": "code",
      "metadata": {
        "id": "LQsTIp12vnh7",
        "colab_type": "code",
        "colab": {}
      },
      "source": [
        "\n",
        "S1 = tf.Variable(tf.random.normal(shape=(N,N ), dtype=tf.float64))\n",
        "w1 = tf.Variable(tf.random.normal(shape=(1, ), dtype=tf.float64))\n",
        "b  = tf.Variable(tf.random.normal(shape=(1,), dtype=tf.float64))\n",
        "\n",
        "loss_history=[]\n",
        "weight_history=[]\n",
        "b_history=[]\n",
        "S_history=[]\n",
        "def train_step():\n",
        "    with tf.GradientTape() as tape:\n",
        "    \n",
        "        loss_value = calc_loss(w1,S1, b)\n",
        "\n",
        "    \n",
        "    loss_history.append(loss_value.numpy())\n",
        "    weight_history.append(w1.numpy())\n",
        "    S_history.append(S1.numpy())\n",
        "    b_history.append(b.numpy())\n",
        "    grads = tape.gradient(loss_value, [w1,S1, b])\n",
        "    optimizer.apply_gradients(zip(grads, [w1,S1, b]))\n"
      ],
      "execution_count": 0,
      "outputs": []
    },
    {
      "cell_type": "code",
      "metadata": {
        "id": "NQGjYpvftuir",
        "colab_type": "code",
        "colab": {}
      },
      "source": [
        "for i in range(3000):\n",
        "    train_step()"
      ],
      "execution_count": 0,
      "outputs": []
    },
    {
      "cell_type": "code",
      "metadata": {
        "id": "z63RhbZTt7JB",
        "colab_type": "code",
        "colab": {
          "base_uri": "https://localhost:8080/",
          "height": 265
        },
        "outputId": "c6417d1c-b9a3-455f-927b-3e82a06e720f"
      },
      "source": [
        "plt.plot(weight_history)\n",
        "\n",
        "plt.show()"
      ],
      "execution_count": 211,
      "outputs": [
        {
          "output_type": "display_data",
          "data": {
            "image/png": "[encoded data removed]",
            "text/plain": [
              "<Figure size 432x288 with 1 Axes>"
            ]
          },
          "metadata": {
            "tags": []
          }
        }
      ]
    },
    {
      "cell_type": "code",
      "metadata": {
        "id": "dOTeDGdAuM8Y",
        "colab_type": "code",
        "colab": {
          "base_uri": "https://localhost:8080/",
          "height": 265
        },
        "outputId": "08d872d1-d54c-450c-a5f1-2f190a211444"
      },
      "source": [
        "finalS = S_history[-1]\n",
        "np.fill_diagonal(finalS,0)\n",
        "\n",
        "plt.imshow(finalS)\n",
        "plt.show()\n"
      ],
      "execution_count": 212,
      "outputs": [
        {
          "output_type": "display_data",
          "data": {
            "image/png": "[encoded data removed]",
            "text/plain": [
              "<Figure size 432x288 with 1 Axes>"
            ]
          },
          "metadata": {
            "tags": []
          }
        }
      ]
    },
    {
      "cell_type": "code",
      "metadata": {
        "id": "hZrZuchV4xsv",
        "colab_type": "code",
        "colab": {
          "base_uri": "https://localhost:8080/",
          "height": 265
        },
        "outputId": "f7385e8b-203b-4877-bd68-1e929f40830d"
      },
      "source": [
        "plt.imshow(social)\n",
        "plt.show()"
      ],
      "execution_count": 213,
      "outputs": [
        {
          "output_type": "display_data",
          "data": {
            "image/png": "[encoded data removed]",
            "text/plain": [
              "<Figure size 432x288 with 1 Axes>"
            ]
          },
          "metadata": {
            "tags": []
          }
        }
      ]
    },
    {
      "cell_type": "code",
      "metadata": {
        "id": "7CDBaXRN--ec",
        "colab_type": "code",
        "colab": {}
      },
      "source": [
        ""
      ],
      "execution_count": 0,
      "outputs": []
    }
  ]
}