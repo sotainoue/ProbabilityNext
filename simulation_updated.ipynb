{
 "cells": [
  {
   "cell_type": "code",
   "execution_count": 1,
   "metadata": {},
   "outputs": [],
   "source": [
    "import numpy as np\n",
    "import matplotlib.pyplot as plt\n",
    "import pandas as pd\n",
    "import math,time\n",
    "import random \n",
    "import numpy.random as rd\n",
    "from decimal import Decimal, ROUND_DOWN\n",
    "from IPython import display\n",
    "from sklearn.preprocessing import StandardScaler, MinMaxScaler\n",
    "from matplotlib.backends.backend_pdf import PdfPages\n",
    "\n",
    "np.set_printoptions(precision=3,suppress=True)"
   ]
  },
  {
   "cell_type": "code",
   "execution_count": 2,
   "metadata": {},
   "outputs": [],
   "source": [
    "\n",
    "\"\"\"variable\"\"\"\n",
    "N = 9 # number of individuals\n",
    "D_weight = 10 # weight of distance\n",
    "D_max = 0.5 # maximum effect of close neighbour\n",
    "S_weight = 2 #weight of social affiliation\n",
    "S_max = 0.002 # maximum effect of close social bond\n",
    "\n",
    "intrinsic_p = 0.001 #probability to chage state sponteniously\n",
    "\n",
    "\n",
    "itr = 500 #number of interation of simulation \n",
    "\n",
    "\n"
   ]
  },
  {
   "cell_type": "code",
   "execution_count": 3,
   "metadata": {},
   "outputs": [],
   "source": [
    "\n",
    "\"\"\"empty list for results\"\"\"\n",
    "num_ind = np.array([])\n",
    "phi_distance = np.array([])\n",
    "soc_distance = np.array([])\n",
    "\n",
    "def distance(X,Y):\n",
    "    \"\"\"function for calculate distance among individuals\"\"\"\n",
    "    res = np.zeros((N,N))\n",
    "    for i in range(N):\n",
    "        xdis = X-X[i]\n",
    "        ydis = Y-Y[i]\n",
    "        r_dis = (xdis**2+ydis**2)**0.5\n",
    "        res[i,:] = r_dis\n",
    "\n",
    "    return res\n",
    "\n",
    "def calculate_switch_probability(c_dist,c_social,c_state):\n",
    "    \n",
    "    social_p = np.sum((S_max*np.exp(-S_weight*(1.0-c_social)))*c_state,axis=-1)\n",
    "    distance_p = np.sum((D_max*np.exp(-D_weight*c_dist))*c_state,axis=-1)\n",
    "    return social_p+distance_p+intrinsic_p"
   ]
  },
  {
   "cell_type": "code",
   "execution_count": 4,
   "metadata": {},
   "outputs": [],
   "source": [
    "# \"\"\"social affiliation\"\"\"\n",
    "# soc_data = pd.read_csv('soc_mat.csv',sep=\",\")\n",
    "\n",
    "# res_soc = soc_data.values\n",
    "# res_soc = res_soc[:,1:10]\n",
    "soc_sq = np.random.rand(N, N)\n",
    "social = np.tril(soc_sq) + np.tril(soc_sq, -1).T\n",
    "np.fill_diagonal(social,0)\n"
   ]
  },
  {
   "cell_type": "code",
   "execution_count": 5,
   "metadata": {},
   "outputs": [],
   "source": [
    "phi_distance = np.zeros((N-1,itr))\n",
    "soc_distance = np.zeros((N-1,itr))\n",
    "\n",
    "\n",
    "\n",
    "follow_count = np.zeros((N,N))\n",
    "results = np.zeros((N,itr))\n",
    "\"\"\"simulation\"\"\"\n",
    "#stdsc = StandardScaler()\n",
    "mmsc = MinMaxScaler()\n",
    "\n",
    "for t in range(itr):\n",
    "    \"\"\"initial condition\"\"\"\n",
    "    state = np.zeros(shape=(N,)) ##iniitial state\n",
    "    depart = np.random.randint(0,N)  ## First departure\n",
    "    state[depart] = 1\n",
    "    prev = depart\n",
    "    counter=0\n",
    "    \n",
    "    results[counter,t]=depart\n",
    "    counter+=1\n",
    " \n",
    "    \"\"\"distance\"\"\"\n",
    "    xpos = np.random.uniform(0,1,N)\n",
    "    ypos = np.random.uniform(0,1,N)\n",
    "\n",
    "    res_dist = distance(xpos,ypos)\n",
    "    \n",
    "    soc_sq = np.random.rand(N, N)\n",
    "    social = np.tril(soc_sq) + np.tril(soc_sq, -1).T\n",
    "    np.fill_diagonal(social,0)\n",
    "    \n",
    "    while np.sum(state)<N:\n",
    "    \n",
    "    \n",
    "        trans_prob = calculate_switch_probability(res_dist,social,state)  #calculate probaility to change state\n",
    "        \n",
    "        depart = np.random.randint(0,N)\n",
    "        \n",
    "        if np.random.uniform()<trans_prob[depart]:\n",
    "            if not state[depart]:\n",
    "                state[depart]=1\n",
    "                results[counter,t]=depart\n",
    "                \n",
    "                \n",
    "                follow_count[prev,depart]+=1\n",
    "                \n",
    "                phi_dist = res_dist[prev,depart]\n",
    "                phi_distance[counter-1,t] = phi_dist\n",
    "                \n",
    "                soc_dist = social[prev,depart]\n",
    "                soc_distance[counter-1,t] = soc_dist\n",
    "                \n",
    "                prev = depart\n",
    "                \n",
    "                counter+=1\n",
    "                \n",
    "                \n",
    "\n",
    "\n",
    "np.save('orderings.npy',results) \n"
   ]
  },
  {
   "cell_type": "code",
   "execution_count": 6,
   "metadata": {},
   "outputs": [
    {
     "data": {
      "image/png": "[encoded data removed]",
      "text/plain": [
       "<Figure size 504x360 with 1 Axes>"
      ]
     },
     "metadata": {
      "needs_background": "light"
     },
     "output_type": "display_data"
    }
   ],
   "source": [
    "#xx = range(itr*N)\n",
    "\n",
    "fig = plt.figure(figsize=(7,5))\n",
    "plt.hist(phi_distance.flatten(),bins=20,color=\"red\",alpha=0.3,density=True)\n",
    "plt.xlabel(\"physical distance\")\n",
    "plt.ylabel(\"frequency\")\n",
    "\n",
    "plt.hist(soc_distance.flatten(),bins=20,alpha=0.3,density=True)\n",
    "plt.xlabel(\"social affiliation\")\n",
    "plt.ylabel(\"frequency\")\n",
    "#plt.show()\n",
    "plt.legend(['physical distance','social affiliation'])\n",
    "plt.title(\"Who is next (Wsoc=0.1, Wdis=0.9, a=0.001)\")\n",
    "#plt.show()\n",
    "\n",
    "plt.savefig(\"result.png\",dpi=300)\n"
   ]
  },
  {
   "cell_type": "code",
   "execution_count": null,
   "metadata": {},
   "outputs": [],
   "source": []
  }
 ],
 "metadata": {
  "kernelspec": {
   "display_name": "Python 3",
   "language": "python",
   "name": "python3"
  },
  "language_info": {
   "codemirror_mode": {
    "name": "ipython",
    "version": 3
   },
   "file_extension": ".py",
   "mimetype": "text/x-python",
   "name": "python",
   "nbconvert_exporter": "python",
   "pygments_lexer": "ipython3",
   "version": "3.6.8"
  },
  "widgets": {
   "state": {},
   "version": "1.1.0"
  }
 },
 "nbformat": 4,
 "nbformat_minor": 2
}
