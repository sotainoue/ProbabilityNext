{
  "nbformat": 4,
  "nbformat_minor": 0,
  "metadata": {
    "kernelspec": {
      "display_name": "Python 3",
      "language": "python",
      "name": "python3"
    },
    "language_info": {
      "codemirror_mode": {
        "name": "ipython",
        "version": 3
      },
      "file_extension": ".py",
      "mimetype": "text/x-python",
      "name": "python",
      "nbconvert_exporter": "python",
      "pygments_lexer": "ipython3",
      "version": "3.6.8"
    },
    "widgets": {
      "state": {},
      "version": "1.1.0"
    },
    "colab": {
      "name": "simulation_updated.ipynb",
      "provenance": []
    }
  },
  "cells": [
    {
      "cell_type": "code",
      "metadata": {
        "id": "myQ9vGcgerqy",
        "colab_type": "code",
        "colab": {}
      },
      "source": [
        "import numpy as np\n",
        "import matplotlib.pyplot as plt\n",
        "import pandas as pd\n",
        "import math,time\n",
        "import random \n",
        "import numpy.random as rd\n",
        "from decimal import Decimal, ROUND_DOWN\n",
        "from IPython import display\n",
        "from sklearn.preprocessing import StandardScaler, MinMaxScaler\n",
        "from matplotlib.backends.backend_pdf import PdfPages\n",
        "\n",
        "np.set_printoptions(precision=3,suppress=True)"
      ],
      "execution_count": 0,
      "outputs": []
    },
    {
      "cell_type": "code",
      "metadata": {
        "id": "xlu4-srCerrF",
        "colab_type": "code",
        "colab": {}
      },
      "source": [
        "\n",
        "\"\"\"variable\"\"\"\n",
        "N = 9 # number of individuals\n",
        "D_weight = 10 # weight of distance\n",
        "D_max = 0.005 # maximum effect of close neighbour\n",
        "S_weight = 20 #weight of social affiliation\n",
        "S_max = 0.2 # maximum effect of close social bond\n",
        "\n",
        "intrinsic_p = 0.001 #probability to chage state sponteniously\n",
        "\n",
        "\n",
        "itr = 500 #number of interation of simulation \n",
        "\n",
        "\n"
      ],
      "execution_count": 0,
      "outputs": []
    },
    {
      "cell_type": "code",
      "metadata": {
        "id": "fXz5_c7UerrR",
        "colab_type": "code",
        "colab": {}
      },
      "source": [
        "\n",
        "\"\"\"empty list for results\"\"\"\n",
        "num_ind = np.array([])\n",
        "phi_distance = np.array([])\n",
        "soc_distance = np.array([])\n",
        "\n",
        "def distance(X,Y):\n",
        "    \"\"\"function for calculate distance among individuals\"\"\"\n",
        "    res = np.zeros((N,N))\n",
        "    for i in range(N):\n",
        "        xdis = X-X[i]\n",
        "        ydis = Y-Y[i]\n",
        "        r_dis = (xdis**2+ydis**2)**0.5\n",
        "        res[i,:] = r_dis\n",
        "\n",
        "    return res\n",
        "\n",
        "def calculate_switch_probability(c_dist,c_social,c_state):\n",
        "    \n",
        "    social_p = np.sum((S_max*np.exp(-S_weight*(1.0-c_social)))*c_state,axis=-1)\n",
        "    distance_p = np.sum((D_max*np.exp(-D_weight*c_dist))*c_state,axis=-1)\n",
        "    return social_p+distance_p+intrinsic_p"
      ],
      "execution_count": 0,
      "outputs": []
    },
    {
      "cell_type": "code",
      "metadata": {
        "id": "mb_ew8q8errc",
        "colab_type": "code",
        "colab": {}
      },
      "source": [
        "# \"\"\"social affiliation\"\"\"\n",
        "# soc_data = pd.read_csv('soc_mat.csv',sep=\",\")\n",
        "\n",
        "# res_soc = soc_data.values\n",
        "# res_soc = res_soc[:,1:10]\n",
        "soc_sq = np.random.rand(N, N)\n",
        "social = np.tril(soc_sq) + np.tril(soc_sq, -1).T\n",
        "np.fill_diagonal(social,0)\n",
        "\n",
        "social = np.zeros((N,N))\n",
        "for i in range(N):\n",
        "    if i==N-1:\n",
        "        j=0\n",
        "    else:\n",
        "        j=i+1\n",
        "    social[i,j]=1\n",
        "    #social[j,i]=1\n"
      ],
      "execution_count": 0,
      "outputs": []
    },
    {
      "cell_type": "code",
      "metadata": {
        "id": "Bg4P9Yfqerrm",
        "colab_type": "code",
        "colab": {}
      },
      "source": [
        "phi_distance = np.zeros((N-1,itr))\n",
        "soc_distance = np.zeros((N-1,itr))\n",
        "\n",
        "\n",
        "\n",
        "follow_count = np.zeros((N,N))\n",
        "results = np.zeros((N,itr))\n",
        "distances = np.zeros((itr,N,N))\n",
        "\"\"\"simulation\"\"\"\n",
        "#stdsc = StandardScaler()\n",
        "mmsc = MinMaxScaler()\n",
        "\n",
        "for t in range(itr):\n",
        "    \"\"\"initial condition\"\"\"\n",
        "    state = np.zeros(shape=(N,)) ##iniitial state\n",
        "    depart = np.random.randint(0,N)  ## First departure\n",
        "    state[depart] = 1\n",
        "    prev = depart\n",
        "    counter=0\n",
        "    \n",
        "    results[counter,t]=depart\n",
        "    counter+=1\n",
        " \n",
        "    \"\"\"distance\"\"\"\n",
        "    xpos = np.random.uniform(0,1,N)\n",
        "    ypos = np.random.uniform(0,1,N)\n",
        "\n",
        "    res_dist = distance(xpos,ypos)\n",
        "    distances[t] = res_dist[:]\n",
        "    # soc_sq = np.random.rand(N, N)\n",
        "    # social = np.tril(soc_sq) + np.tril(soc_sq, -1).T\n",
        "    # np.fill_diagonal(social,0)\n",
        "    \n",
        "    while np.sum(state)<N:\n",
        "    \n",
        "    \n",
        "        trans_prob = calculate_switch_probability(res_dist,social,state)  #calculate probaility to change state\n",
        "        \n",
        "        depart = np.random.randint(0,N)\n",
        "        \n",
        "        if np.random.uniform()<trans_prob[depart]:\n",
        "            if not state[depart]:\n",
        "                state[depart]=1\n",
        "                results[counter,t]=depart\n",
        "                \n",
        "                \n",
        "                follow_count[prev,depart]+=1\n",
        "                \n",
        "                phi_dist = res_dist[prev,depart]\n",
        "                phi_distance[counter-1,t] = phi_dist\n",
        "                \n",
        "                soc_dist = social[prev,depart]\n",
        "                soc_distance[counter-1,t] = soc_dist\n",
        "                \n",
        "                prev = depart\n",
        "                \n",
        "                counter+=1\n",
        "                \n",
        "                \n",
        "\n",
        "\n",
        "np.save('orderings.npy',results) \n"
      ],
      "execution_count": 0,
      "outputs": []
    },
    {
      "cell_type": "code",
      "metadata": {
        "id": "Z2GCju98errv",
        "colab_type": "code",
        "colab": {
          "base_uri": "https://localhost:8080/",
          "height": 350
        },
        "outputId": "8dc0e24e-f345-4726-d665-42a97b836d3a"
      },
      "source": [
        "#xx = range(itr*N)\n",
        "\n",
        "fig = plt.figure(figsize=(7,5))\n",
        "plt.hist(phi_distance.flatten(),bins=20,color=\"red\",alpha=0.3,density=True)\n",
        "plt.xlabel(\"physical distance\")\n",
        "plt.ylabel(\"frequency\")\n",
        "\n",
        "plt.hist(soc_distance.flatten(),bins=20,alpha=0.3,density=True)\n",
        "plt.xlabel(\"social affiliation\")\n",
        "plt.ylabel(\"frequency\")\n",
        "#plt.show()\n",
        "plt.legend(['physical distance','social affiliation'])\n",
        "plt.title(\"Who is next (Wsoc=0.1, Wdis=0.9, a=0.001)\")\n",
        "#plt.show()\n",
        "\n",
        "plt.savefig(\"result.png\",dpi=300)\n"
      ],
      "execution_count": 61,
      "outputs": [
        {
          "output_type": "display_data",
          "data": {
            "image/png": "[encoded data removed]",
            "text/plain": [
              "<Figure size 504x360 with 1 Axes>"
            ]
          },
          "metadata": {
            "tags": []
          }
        }
      ]
    },
    {
      "cell_type": "code",
      "metadata": {
        "id": "oN4zpI0Serr5",
        "colab_type": "code",
        "colab": {
          "base_uri": "https://localhost:8080/",
          "height": 34
        },
        "outputId": "db30cc43-a8bb-4909-a641-b0d4a656bf2d"
      },
      "source": [
        "%ls"
      ],
      "execution_count": 55,
      "outputs": [
        {
          "output_type": "stream",
          "text": [
            "\u001b[0m\u001b[01;34mdrive\u001b[0m/  orderings.npy  result.png  \u001b[01;34msample_data\u001b[0m/\n"
          ],
          "name": "stdout"
        }
      ]
    },
    {
      "cell_type": "code",
      "metadata": {
        "id": "1AR6uzjZfB2y",
        "colab_type": "code",
        "colab": {
          "base_uri": "https://localhost:8080/",
          "height": 34
        },
        "outputId": "68973096-e608-4b55-9de5-be311d1d7e0f"
      },
      "source": [
        "from google.colab import drive\n",
        "drive.mount('/content/drive')\n",
        "\n",
        "\n"
      ],
      "execution_count": 56,
      "outputs": [
        {
          "output_type": "stream",
          "text": [
            "Drive already mounted at /content/drive; to attempt to forcibly remount, call drive.mount(\"/content/drive\", force_remount=True).\n"
          ],
          "name": "stdout"
        }
      ]
    },
    {
      "cell_type": "code",
      "metadata": {
        "id": "8_etpNp4ffMp",
        "colab_type": "code",
        "colab": {}
      },
      "source": [
        "np.save('drive/My Drive/orderings.npy',results) \n",
        "np.save('drive/My Drive/distances.npy',distances) \n",
        "np.save('drive/My Drive/social.npy',social) "
      ],
      "execution_count": 0,
      "outputs": []
    },
    {
      "cell_type": "code",
      "metadata": {
        "id": "_lquOL3-flQ1",
        "colab_type": "code",
        "colab": {
          "base_uri": "https://localhost:8080/",
          "height": 34
        },
        "outputId": "e2d6af03-6b31-4153-a0e8-9fbf49415318"
      },
      "source": [
        "results[:,1]"
      ],
      "execution_count": 62,
      "outputs": [
        {
          "output_type": "execute_result",
          "data": {
            "text/plain": [
              "array([6., 5., 4., 3., 2., 1., 0., 8., 7.])"
            ]
          },
          "metadata": {
            "tags": []
          },
          "execution_count": 62
        }
      ]
    },
    {
      "cell_type": "code",
      "metadata": {
        "id": "DXM7LHbJ6tRm",
        "colab_type": "code",
        "colab": {}
      },
      "source": [
        ""
      ],
      "execution_count": 0,
      "outputs": []
    }
  ]
}