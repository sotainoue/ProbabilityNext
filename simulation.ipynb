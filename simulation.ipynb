{
 "cells": [
  {
   "cell_type": "code",
   "execution_count": 253,
   "metadata": {},
   "outputs": [
    {
     "data": {
      "image/png": "[encoded data removed]",
      "text/plain": [
       "<Figure size 432x288 with 1 Axes>"
      ]
     },
     "metadata": {
      "needs_background": "light"
     },
     "output_type": "display_data"
    }
   ],
   "source": [
    "import numpy as np\n",
    "import matplotlib.pyplot as plt\n",
    "import math,time\n",
    "import random \n",
    "import numpy.random as rd\n",
    "from decimal import Decimal, ROUND_DOWN\n",
    "from IPython import display\n",
    "\n",
    "\"\"\"variable\"\"\"\n",
    "N = 10 #nuber of individuals\n",
    "W_dis = 0.8 #wight of distance\n",
    "W_soc = 0.2 #weight of social affiliation\n",
    "a = 0.1 #probabilty to chage state sponteniously\n",
    "x1 = np.array(range(10))\n",
    "\n",
    "\"\"\"initial condition\"\"\"\n",
    "state = np.zeros(shape=(N,1)) ##iniitial state\n",
    "depart = random.randint(0,9)  ## First departure\n",
    "state[depart,0] = 1\n",
    "kotaisu = np.array([])\n",
    "\n",
    "\"\"\"function\"\"\"\n",
    "\n",
    "def softmax(Z):\n",
    "    \"\"\"softmax fuction\"\"\"\n",
    "    return np.exp(Z)/np.sum(np.exp(Z))\n",
    "\n",
    "def pro(A,B,S):\n",
    "    \"\"\"compute probabtility to be next\"\"\"\n",
    "    D = W_dis*A*S\n",
    "    S = W_soc*B*S\n",
    "    \n",
    "    kekka = softmax(D+S+a)\n",
    "    \n",
    "    for i in range(10):\n",
    "        p = np.sum(kekka[0:N,i])\n",
    "        res_p[0,i] = p\n",
    "    \n",
    "    return res_p\n",
    "\n",
    "\"\"\"social affiliation\"\"\"\n",
    "xsoc = np.random.uniform(0,20,N)\n",
    "ysoc = np.random.uniform(0,20,N)\n",
    "\n",
    "res_soc = np.zeros(shape=(N,N))\n",
    "for i in range(N):\n",
    "    xsocial = xsoc-xsoc[i]\n",
    "    ysocial = ysoc-ysoc[i]\n",
    "    r_soc = (xsocial**2+ysocial**2)**0.5\n",
    "    res_soc[i,0:N] = r_soc\n",
    "\n",
    "for i in range(N):\n",
    "    res_soc[i,i] = 0\n",
    "\n",
    "\"\"\"distance\"\"\"\n",
    "xpos = np.random.uniform(0,20,N)\n",
    "ypos = np.random.uniform(0,20,N)\n",
    "plt.scatter(xpos,ypos,c=\"blue\")\n",
    "plt.scatter(xpos[depart],ypos[depart],c=\"red\")\n",
    "plt.show()\n",
    "res_dist = np.zeros(shape=(N,N))\n",
    "\n",
    "for i in range(N):\n",
    "    xdis = xpos-xpos[i]\n",
    "    ydis = ypos-ypos[i]\n",
    "    r_dis = (xdis**2+ydis**2)**0.5\n",
    "    res_dist[i,0:N] = r_dis\n",
    "\n",
    "\"\"\"simulation\"\"\"\n",
    "\n",
    "for k in range(50):\n",
    "    #time.sleep(0.1)\n",
    "    \n",
    "    res_p = np.zeros(shape=(1,N))\n",
    "    pro(res_dist,res_soc,state)\n",
    "\n",
    "\n",
    "    #plt.scatter(x1,res_p)\n",
    "    #plt.show()\n",
    "\n",
    "    res_p = res_p[0,:]\n",
    "    x2 = rd.choice(N, 1, p=res_p)\n",
    "\n",
    "\n",
    "    state[x2,0] = 1\n",
    "    #print(state)\n",
    "    \n",
    "    xT = np.reshape(xpos,(10,1))\n",
    "    yT = np.reshape(ypos,(10,1))\n",
    "    xnew = xT*state\n",
    "    ynew = yT*state\n",
    "    \n",
    "    plt.clf()\n",
    "    plt.scatter(xpos,ypos,c=\"blue\", s=50)\n",
    "    plt.scatter(xnew,ynew,c=\"red\", s=50)\n",
    "    display.display(plt.gcf())\n",
    "    display.clear_output(wait=True)\n",
    "    \n",
    "    kazu = np.sum(state)\n",
    "    kotaisu = np.append(kotaisu,kazu) \n",
    "\n"
   ]
  },
  {
   "cell_type": "code",
   "execution_count": 254,
   "metadata": {},
   "outputs": [
    {
     "data": {
      "image/png": "[encoded data removed]",
      "text/plain": [
       "<Figure size 432x288 with 1 Axes>"
      ]
     },
     "metadata": {
      "needs_background": "light"
     },
     "output_type": "display_data"
    }
   ],
   "source": [
    "plt.plot(range(50),kotaisu)\n",
    "plt.show()"
   ]
  },
  {
   "cell_type": "code",
   "execution_count": 173,
   "metadata": {},
   "outputs": [
    {
     "data": {
      "text/plain": [
       "array([1.40404306e+01, 2.58264842e+00, 1.36076708e+01, 9.04228856e+00,\n",
       "       1.96391211e+00, 8.89578437e+02, 4.96792158e+01, 8.54293091e-03,\n",
       "       1.10821253e+01, 8.41472885e+00])"
      ]
     },
     "execution_count": 173,
     "metadata": {},
     "output_type": "execute_result"
    }
   ],
   "source": [
    "W_dis = 0.5\n",
    "W_soc = 0.5\n",
    "\n",
    "D = W_dis*res_dist*state \n",
    "S = W_soc*res_soc*state\n",
    "\n",
    "kekka = softmax(D+S+a)\n",
    "\n",
    "res_p = np.zeros(shape=(1,N))\n",
    "for i in range(10):\n",
    "    p = np.sum(kekka[0:N,i])\n",
    "    res_p[0,i] = p\n",
    "\n",
    "plt.scatter(x1,res_p)\n",
    "\n",
    "\n",
    "res_p = res_p[0,:]\n",
    "x2 = rd.choice(N, 1, p=res_p)\n",
    "\n",
    "\n",
    "state[x2,0] = 1\n",
    "state\n",
    "\n",
    " \n",
    "\n"
   ]
  },
  {
   "cell_type": "code",
   "execution_count": null,
   "metadata": {},
   "outputs": [],
   "source": []
  }
 ],
 "metadata": {
  "kernelspec": {
   "display_name": "Python 3",
   "language": "python",
   "name": "python3"
  },
  "language_info": {
   "codemirror_mode": {
    "name": "ipython",
    "version": 3
   },
   "file_extension": ".py",
   "mimetype": "text/x-python",
   "name": "python",
   "nbconvert_exporter": "python",
   "pygments_lexer": "ipython3",
   "version": "3.7.1"
  }
 },
 "nbformat": 4,
 "nbformat_minor": 2
}
