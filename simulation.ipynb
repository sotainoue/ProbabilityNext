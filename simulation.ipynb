{
 "cells": [
  {
   "cell_type": "code",
   "execution_count": null,
   "metadata": {},
   "outputs": [
    {
     "data": {
      "image/png": "[encoded data removed]",
      "text/plain": [
       "<Figure size 432x288 with 1 Axes>"
      ]
     },
     "metadata": {
      "needs_background": "light"
     },
     "output_type": "display_data"
    },
    {
     "name": "stdout",
     "output_type": "stream",
     "text": [
      "[[1. 1. 1. 1. 1. 0. 1. 1. 1. 1.]]\n"
     ]
    },
    {
     "data": {
      "image/png": "[encoded data removed]",
      "text/plain": [
       "<Figure size 432x288 with 1 Axes>"
      ]
     },
     "metadata": {},
     "output_type": "display_data"
    }
   ],
   "source": [
    "import numpy as np\n",
    "import matplotlib.pyplot as plt\n",
    "import math,time\n",
    "import random \n",
    "import numpy.random as rd\n",
    "from decimal import Decimal, ROUND_DOWN\n",
    "from IPython import display\n",
    "\n",
    "\"\"\"variable\"\"\"\n",
    "N = 10 #nuber of individuals\n",
    "W_dis = 0.3 #wight of distance\n",
    "W_soc = 0.7 #weight of social affiliation\n",
    "a = 0.01 #probabilty to chage state sponteniously\n",
    "itr = 10 #number of interation of simulation \n",
    "x1 = np.array(range(N))\n",
    "\n",
    "\"\"\"initial condition\"\"\"\n",
    "state = np.ones(shape=(N,1)) ##iniitial state\n",
    "depart = random.randint(0,N-1)  ## First departure\n",
    "state[depart,0] = 0\n",
    "num_ind = np.array([])\n",
    "\n",
    "\"\"\"function\"\"\"\n",
    "def distance(X,Y):\n",
    "    \"\"\"function for calculate distance among individuals\"\"\"\n",
    "    res = np.zeros(shape=(N,N))\n",
    "    for i in range(N):\n",
    "        r_dis = np.array([])\n",
    "        xdis = X-X[i]\n",
    "        ydis = Y-Y[i]\n",
    "        r_dis = (xdis**2+ydis**2)**0.5\n",
    "        res[i,0:N] = r_dis\n",
    "\n",
    "    return res\n",
    "\n",
    "\n",
    "def softmax(Z):\n",
    "    \"\"\"softmax fuction\"\"\"\n",
    "    return np.exp(Z)/np.sum(np.exp(Z))\n",
    "\n",
    "def pro(A,B,S):\n",
    "    \"\"\"compute probabtility to be next\"\"\"\n",
    "    res_p = np.zeros(shape=(N,1))\n",
    "    k = (W_dis*A+W_soc*B)*S\n",
    "\n",
    "    for i in range(N):\n",
    "        p = np.sum(k[i,:])\n",
    "        res_p[i,0] = p\n",
    "\n",
    "    prob = softmax(res_p+a)\n",
    "    return prob\n",
    "\n",
    "\"\"\"social affiliation\"\"\"\n",
    "xsoc = np.random.uniform(0,20,N)\n",
    "ysoc = np.random.uniform(0,20,N)\n",
    "\n",
    "res_soc = np.zeros(shape=(N,N))\n",
    "\n",
    "res_soc = distance(xsoc,ysoc)\n",
    "\n",
    "\"\"\"distance\"\"\"\n",
    "xpos = np.random.uniform(0,20,N)\n",
    "ypos = np.random.uniform(0,20,N)\n",
    "\n",
    "res_dist = np.zeros(shape=(N,N))\n",
    "\n",
    "res_dist = distance(xpos,ypos)\n",
    "\n",
    "\n",
    "\"\"\"show initial position\"\"\"\n",
    "plt.scatter(xpos,ypos,c=\"red\")\n",
    "plt.scatter(xpos[depart],ypos[depart],c=\"blue\")\n",
    "plt.show()\n",
    "\n",
    "\"\"\"simulation\"\"\"\n",
    "\n",
    "for k in range(itr):\n",
    "    time.sleep(2)\n",
    "    print(np.reshape(state,(1,N)))\n",
    "    \n",
    "    res_p = np.zeros(shape=(1,N))\n",
    "    prob = pro(res_dist,res_soc,state)  #calculate probaility to change state\n",
    "\n",
    "    prob = np.reshape(prob,(1,N))\n",
    "    prob = prob[0,:]\n",
    "    x2 = rd.choice(N, 1, p=prob) #select next one from the probalitiy \n",
    "    state[x2,0] = 0 #change state\n",
    "   \n",
    "          \n",
    "    xT = np.reshape(xpos,(N,1))  \n",
    "    yT = np.reshape(ypos,(N,1))\n",
    "    \n",
    "    xnew = xT*state #following state, indivi\n",
    "    ynew = yT*state\n",
    "    \n",
    "    #show plot of each individual's state \n",
    "    plt.clf()\n",
    "    plt.scatter(xpos,ypos,c=\"blue\", s=50) #blue is departed individuals\n",
    "    plt.scatter(xnew,ynew,c=\"red\", s=50) #red is undeparted individuals \n",
    "    display.display(plt.gcf())\n",
    "    display.clear_output(wait=True)\n",
    "    \n",
    "    sum_ind_state = N - np.sum(state)\n",
    "    num_ind = np.append(num_ind,sum_ind_state) \n",
    "\n"
   ]
  },
  {
   "cell_type": "code",
   "execution_count": 3,
   "metadata": {},
   "outputs": [
    {
     "name": "stdout",
     "output_type": "stream",
     "text": [
      "[ 2.  3.  4.  5.  6.  7.  8.  9. 10. 10.]\n"
     ]
    },
    {
     "data": {
      "image/png": "[encoded data removed]",
      "text/plain": [
       "<Figure size 432x288 with 1 Axes>"
      ]
     },
     "metadata": {
      "needs_background": "light"
     },
     "output_type": "display_data"
    }
   ],
   "source": [
    "print(num_ind)\n",
    "plt.plot(range(itr),num_ind)\n",
    "plt.show()"
   ]
  },
  {
   "cell_type": "code",
   "execution_count": null,
   "metadata": {},
   "outputs": [],
   "source": []
  }
 ],
 "metadata": {
  "kernelspec": {
   "display_name": "Python 3",
   "language": "python",
   "name": "python3"
  },
  "language_info": {
   "codemirror_mode": {
    "name": "ipython",
    "version": 3
   },
   "file_extension": ".py",
   "mimetype": "text/x-python",
   "name": "python",
   "nbconvert_exporter": "python",
   "pygments_lexer": "ipython3",
   "version": "3.7.1"
  }
 },
 "nbformat": 4,
 "nbformat_minor": 2
}
