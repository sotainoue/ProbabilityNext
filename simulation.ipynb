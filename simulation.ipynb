{
 "cells": [
  {
   "cell_type": "code",
   "execution_count": 31,
   "metadata": {},
   "outputs": [],
   "source": [
    "import numpy as np\n",
    "import matplotlib.pyplot as plt\n",
    "import pandas as pd\n",
    "import math,time\n",
    "import random \n",
    "import numpy.random as rd\n",
    "from decimal import Decimal, ROUND_DOWN\n",
    "from IPython import display\n",
    "from sklearn.preprocessing import StandardScaler, MinMaxScaler\n",
    "from matplotlib.backends.backend_pdf import PdfPages\n",
    "\n",
    "np.set_printoptions(precision=3,suppress=True)"
   ]
  },
  {
   "cell_type": "code",
   "execution_count": 55,
   "metadata": {},
   "outputs": [],
   "source": [
    "\n",
    "\"\"\"variable\"\"\"\n",
    "N = 9 # number of individuals\n",
    "D_weight = 1 # weight of distance\n",
    "D_max = 0.01 # maximum effect of close neighbour\n",
    "S_weight = 0.1 #weight of social affiliation\n",
    "S_max = 0.01 # maximum effect of close social bond\n",
    "\n",
    "intrinsic_p = 0.001 #probability to chage state sponteniously\n",
    "\n",
    "\n",
    "itr = 500 #number of interation of simulation \n",
    "\n",
    "\n"
   ]
  },
  {
   "cell_type": "code",
   "execution_count": 56,
   "metadata": {},
   "outputs": [],
   "source": [
    "\n",
    "\"\"\"empty list for results\"\"\"\n",
    "num_ind = np.array([])\n",
    "phi_distance = np.array([])\n",
    "soc_distance = np.array([])\n",
    "\n",
    "def distance(X,Y):\n",
    "    \"\"\"function for calculate distance among individuals\"\"\"\n",
    "    res = np.zeros((N,N))\n",
    "    for i in range(N):\n",
    "        xdis = X-X[i]\n",
    "        ydis = Y-Y[i]\n",
    "        r_dis = (xdis**2+ydis**2)**0.5\n",
    "        res[i,:] = r_dis\n",
    "\n",
    "    return res\n",
    "\n",
    "\n",
    "def softmax(Z):\n",
    "    \"\"\"softmax fuction\"\"\"\n",
    "    return np.exp(Z)/np.sum(np.exp(Z))\n",
    "\n",
    "def calculate_switch_probability(c_dist,c_social,c_state):\n",
    "    \n",
    "    social_p = np.sum((S_max*np.exp(-S_weight*(1.0-c_social)))*c_state,axis=-1)\n",
    "    distance_p = np.sum((D_max*np.exp(-D_weight*c_dist))*c_state,axis=-1)\n",
    "    return social_p+distance_p+intrinsic_p"
   ]
  },
  {
   "cell_type": "code",
   "execution_count": 53,
   "metadata": {},
   "outputs": [],
   "source": [
    "# \"\"\"social affiliation\"\"\"\n",
    "# soc_data = pd.read_csv('soc_mat.csv',sep=\",\")\n",
    "\n",
    "# res_soc = soc_data.values\n",
    "# res_soc = res_soc[:,1:10]\n",
    "soc_sq = np.random.rand(N, N)\n",
    "social = np.tril(soc_sq) + np.tril(soc_sq, -1).T\n",
    "np.fill_diagonal(social,0)\n"
   ]
  },
  {
   "cell_type": "code",
   "execution_count": 54,
   "metadata": {},
   "outputs": [
    {
     "data": {
      "text/plain": [
       "array([0.016, 0.019, 0.02 , 0.015, 0.016, 0.016, 0.017, 0.018, 0.018])"
      ]
     },
     "execution_count": 54,
     "metadata": {},
     "output_type": "execute_result"
    }
   ],
   "source": [
    "state = np.zeros(shape=(N,)) ##iniitial state\n",
    "depart = random.randint(0,N-1)  ## First departure\n",
    "state[depart] = 1\n",
    "\n",
    "\"\"\"distance\"\"\"\n",
    "xpos = np.random.uniform(0,1,N)\n",
    "ypos = np.random.uniform(0,1,N)\n",
    "\n",
    "res_dist = distance(xpos,ypos)\n",
    "\n",
    "np.sum((S_max*np.exp(-S_weight*(1.0-social))+D_max*np.exp(-D_weight*res_dist))*state,axis=-1)+a"
   ]
  },
  {
   "cell_type": "code",
   "execution_count": 44,
   "metadata": {},
   "outputs": [
    {
     "data": {
      "text/plain": [
       "array([[0.   , 0.448, 0.325, 0.302, 0.555, 0.431, 0.174, 0.433, 0.11 ],\n",
       "       [0.448, 0.   , 0.744, 0.713, 0.149, 0.16 , 0.485, 0.698, 0.397],\n",
       "       [0.325, 0.744, 0.   , 0.354, 0.868, 0.679, 0.271, 0.612, 0.428],\n",
       "       [0.302, 0.713, 0.354, 0.   , 0.788, 0.726, 0.427, 0.271, 0.316],\n",
       "       [0.555, 0.149, 0.868, 0.788, 0.   , 0.302, 0.619, 0.722, 0.483],\n",
       "       [0.431, 0.16 , 0.679, 0.726, 0.302, 0.   , 0.408, 0.769, 0.42 ],\n",
       "       [0.174, 0.485, 0.271, 0.427, 0.619, 0.408, 0.   , 0.602, 0.274],\n",
       "       [0.433, 0.698, 0.612, 0.271, 0.722, 0.769, 0.602, 0.   , 0.369],\n",
       "       [0.11 , 0.397, 0.428, 0.316, 0.483, 0.42 , 0.274, 0.369, 0.   ]])"
      ]
     },
     "execution_count": 44,
     "metadata": {},
     "output_type": "execute_result"
    }
   ],
   "source": [
    "res_dist"
   ]
  },
  {
   "cell_type": "code",
   "execution_count": 66,
   "metadata": {},
   "outputs": [],
   "source": [
    "\n",
    "\n",
    "#xsoc = np.random.uniform(0,20,N)\n",
    "#ysoc = np.random.uniform(0,20,N)\n",
    "\n",
    "#res_soc = np.zeros(shape=(N,N))\n",
    "\n",
    "#res_soc = distance(xsoc,ysoc)\n",
    "\n",
    "results = np.zeros((N,itr))\n",
    "\"\"\"simulation\"\"\"\n",
    "#stdsc = StandardScaler()\n",
    "mmsc = MinMaxScaler()\n",
    "\n",
    "for t in range(itr):\n",
    "    \"\"\"initial condition\"\"\"\n",
    "    state = np.zeros(shape=(N,)) ##iniitial state\n",
    "    depart = np.random.randint(0,N)  ## First departure\n",
    "    state[depart] = 1\n",
    "    \n",
    "    counter=0\n",
    "    \n",
    "    results[counter,t]=depart\n",
    "    counter+=1\n",
    " \n",
    "    \"\"\"distance\"\"\"\n",
    "    xpos = np.random.uniform(0,1,N)\n",
    "    ypos = np.random.uniform(0,1,N)\n",
    "\n",
    "    res_dist = distance(xpos,ypos)\n",
    "    \n",
    "    \n",
    "    while np.sum(state)<N:\n",
    "    \n",
    "    \n",
    "        trans_prob = calculate_switch_probability(res_dist,social,state)  #calculate probaility to change state\n",
    "        \n",
    "        depart = np.random.randint(0,N)\n",
    "        \n",
    "        if np.random.uniform()<trans_prob[depart]:\n",
    "            if not state[depart]:\n",
    "                state[depart]=1\n",
    "                results[counter,t]=depart\n",
    "                counter+=1\n",
    "            \n",
    "\n",
    "#         prob = np.reshape(prob,(1,N))\n",
    "#         prob = prob[0,:]\n",
    "#         Next = rd.choice(N, 1, p=prob) #select next one from the probalitiy \n",
    "#         state[Next,0] = 0 #change state\n",
    "\n",
    "\n",
    "#         xT = np.reshape(xpos,(N,1))  \n",
    "#         yT = np.reshape(ypos,(N,1))\n",
    "\n",
    "#         xnew = xT*state #following state, indivi\n",
    "#         ynew = yT*state\n",
    "\n",
    "#         #show plot of each individual's state \n",
    "#         #plt.clf()\n",
    "#         #plt.scatter(xpos,ypos,c=\"blue\", s=50) #blue is departed individuals\n",
    "#         #plt.scatter(xnew,ynew,c=\"red\", s=50) #red is undeparted individuals \n",
    "#         #display.display(plt.gcf())\n",
    "#         #display.clear_output(wait=True)\n",
    "\n",
    "#         sum_ind_state = N - np.sum(state)\n",
    "#         num_ind = np.append(num_ind,sum_ind_state) \n",
    "#         phi_dist = res_dist[pre_ind,Next]\n",
    "#         phi_distance = np.append(phi_distance,phi_dist)\n",
    "#         soc_dist = res_soc[pre_ind,Next]\n",
    "#         soc_distance = np.append(soc_distance,soc_dist)\n",
    "    \n"
   ]
  },
  {
   "cell_type": "code",
   "execution_count": 67,
   "metadata": {},
   "outputs": [
    {
     "data": {
      "text/plain": [
       "array([0., 2., 4., 5., 3., 1., 6., 7., 8.])"
      ]
     },
     "execution_count": 67,
     "metadata": {},
     "output_type": "execute_result"
    }
   ],
   "source": [
    "results[:,0]"
   ]
  },
  {
   "cell_type": "code",
   "execution_count": 5,
   "metadata": {},
   "outputs": [
    {
     "data": {
      "image/png": "[encoded data removed]",
      "text/plain": [
       "<Figure size 504x360 with 1 Axes>"
      ]
     },
     "metadata": {
      "needs_background": "light"
     },
     "output_type": "display_data"
    }
   ],
   "source": [
    "xx = range(itr*N)\n",
    "\n",
    "fig = plt.figure(figsize=(7,5))\n",
    "plt.hist(phi_distance,bins=20,color=\"red\",alpha=0.3)\n",
    "plt.xlabel(\"physical distance\")\n",
    "plt.ylabel(\"frequency\")\n",
    "\n",
    "plt.hist(soc_distance,bins=20,alpha=0.3)\n",
    "plt.xlabel(\"social affiliation\")\n",
    "plt.ylabel(\"frequency\")\n",
    "#plt.show()\n",
    "plt.legend(['physical distance','social affiliation'])\n",
    "plt.title(\"Who is next (Wsoc=0.1, Wdis=0.9, a=0.001)\")\n",
    "#plt.show()\n",
    "\n",
    "plt.savefig(\"result.png\",dpi=300)\n"
   ]
  },
  {
   "cell_type": "code",
   "execution_count": 173,
   "metadata": {},
   "outputs": [
    {
     "data": {
      "image/png": "[encoded data removed]",
      "text/plain": [
       "<Figure size 432x288 with 1 Axes>"
      ]
     },
     "metadata": {
      "needs_background": "light"
     },
     "output_type": "display_data"
    },
    {
     "data": {
      "image/png": "[encoded data removed]",
      "text/plain": [
       "<Figure size 432x288 with 1 Axes>"
      ]
     },
     "metadata": {
      "needs_background": "light"
     },
     "output_type": "display_data"
    }
   ],
   "source": [
    "plt.hist(res_soc)\n",
    "plt.show()\n",
    "plt.hist(res_dist)\n",
    "plt.show()"
   ]
  },
  {
   "cell_type": "code",
   "execution_count": 59,
   "metadata": {},
   "outputs": [
    {
     "data": {
      "text/plain": [
       "0.8514206605358232"
      ]
     },
     "execution_count": 59,
     "metadata": {},
     "output_type": "execute_result"
    }
   ],
   "source": [
    "np.random.uniform()"
   ]
  },
  {
   "cell_type": "code",
   "execution_count": null,
   "metadata": {},
   "outputs": [],
   "source": []
  }
 ],
 "metadata": {
  "kernelspec": {
   "display_name": "Python 3",
   "language": "python",
   "name": "python3"
  },
  "language_info": {
   "codemirror_mode": {
    "name": "ipython",
    "version": 3
   },
   "file_extension": ".py",
   "mimetype": "text/x-python",
   "name": "python",
   "nbconvert_exporter": "python",
   "pygments_lexer": "ipython3",
   "version": "3.6.8"
  },
  "widgets": {
   "state": {},
   "version": "1.1.0"
  }
 },
 "nbformat": 4,
 "nbformat_minor": 2
}
