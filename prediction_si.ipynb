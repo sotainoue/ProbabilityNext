{
  "nbformat": 4,
  "nbformat_minor": 0,
  "metadata": {
    "kernelspec": {
      "name": "python3",
      "display_name": "Python 3"
    },
    "language_info": {
      "codemirror_mode": {
        "name": "ipython",
        "version": 3
      },
      "file_extension": ".py",
      "mimetype": "text/x-python",
      "name": "python",
      "nbconvert_exporter": "python",
      "pygments_lexer": "ipython3",
      "version": "3.6.8"
    },
    "colab": {
      "name": "prediction.ipynb",
      "provenance": [],
      "toc_visible": true,
      "include_colab_link": true
    },
    "accelerator": "GPU"
  },
  "cells": [
    {
      "cell_type": "markdown",
      "metadata": {
        "id": "view-in-github",
        "colab_type": "text"
      },
      "source": [
        "<a href=\"https://colab.research.google.com/github/sotainoue/ProbabilityNext/blob/master/prediction_si.ipynb\" target=\"_parent\"><img src=\"https://colab.research.google.com/assets/colab-badge.svg\" alt=\"Open In Colab\"/></a>"
      ]
    },
    {
      "cell_type": "code",
      "metadata": {
        "id": "5aDdmQubebsY",
        "colab_type": "code",
        "outputId": "818c47b3-e524-4e1a-b710-8aeabfd89d6f",
        "colab": {
          "base_uri": "https://localhost:8080/",
          "height": 34
        }
      },
      "source": [
        "%tensorflow_version 2.x\n",
        "\n",
        "import numpy as np\n",
        "import matplotlib.pyplot as plt\n",
        "import glob\n",
        "import tensorflow as tf\n",
        "from tqdm import tqdm\n",
        "\n",
        "np.set_printoptions(suppress=True,precision=3)"
      ],
      "execution_count": 1,
      "outputs": [
        {
          "output_type": "stream",
          "text": [
            "TensorFlow 2.x selected.\n"
          ],
          "name": "stdout"
        }
      ]
    },
    {
      "cell_type": "code",
      "metadata": {
        "id": "sevDJtRepkNG",
        "colab_type": "code",
        "outputId": "b39e3729-4784-47da-d1bb-c84d671c5a5b",
        "colab": {
          "base_uri": "https://localhost:8080/",
          "height": 1000
        }
      },
      "source": [
        "!curl -L -o output.zip https://www.dropbox.com/s/oixt0m25y2c3n2w/output.zip?dl=0\n",
        "!mkdir data\n",
        "!unzip output.zip -d data"
      ],
      "execution_count": 2,
      "outputs": [
        {
          "output_type": "stream",
          "text": [
            "  % Total    % Received % Xferd  Average Speed   Time    Time     Time  Current\n",
            "                                 Dload  Upload   Total   Spent    Left  Speed\n",
            "  0     0    0     0    0     0      0      0 --:--:-- --:--:-- --:--:--     0\n",
            "  0     0    0     0    0     0      0      0 --:--:--  0:00:01 --:--:--     0\n",
            "100  1034    0  1034    0     0    643      0 --:--:--  0:00:01 --:--:--  4070\n",
            "100  145k  100  145k    0     0  72299      0  0:00:02  0:00:02 --:--:-- 72299\n",
            "Archive:  output.zip\n",
            "  inflating: data/distance_event_12_order_01.csv  \n",
            "  inflating: data/distance_event_12_order_02.csv  \n",
            "  inflating: data/distance_event_12_order_03.csv  \n",
            "  inflating: data/distance_event_12_order_04.csv  \n",
            "  inflating: data/distance_event_12_order_05.csv  \n",
            "  inflating: data/distance_event_12_order_06.csv  \n",
            "  inflating: data/distance_event_12_order_07.csv  \n",
            "  inflating: data/distance_event_12_order_08.csv  \n",
            "  inflating: data/distance_event_12_order_09.csv  \n",
            "  inflating: data/distance_event_13_order_01.csv  \n",
            "  inflating: data/distance_event_13_order_02.csv  \n",
            "  inflating: data/distance_event_13_order_03.csv  \n",
            "  inflating: data/distance_event_13_order_04.csv  \n",
            "  inflating: data/distance_event_13_order_05.csv  \n",
            "  inflating: data/distance_event_13_order_06.csv  \n",
            "  inflating: data/distance_event_13_order_07.csv  \n",
            "  inflating: data/distance_event_13_order_08.csv  \n",
            "  inflating: data/distance_event_13_order_09.csv  \n",
            "  inflating: data/distance_event_14_order_01.csv  \n",
            "  inflating: data/distance_event_14_order_02.csv  \n",
            "  inflating: data/distance_event_14_order_03.csv  \n",
            "  inflating: data/distance_event_14_order_04.csv  \n",
            "  inflating: data/distance_event_14_order_05.csv  \n",
            "  inflating: data/distance_event_14_order_06.csv  \n",
            "  inflating: data/distance_event_14_order_07.csv  \n",
            "  inflating: data/distance_event_14_order_08.csv  \n",
            "  inflating: data/distance_event_14_order_09.csv  \n",
            "  inflating: data/distance_event_15_order_01.csv  \n",
            "  inflating: data/distance_event_15_order_02.csv  \n",
            "  inflating: data/distance_event_15_order_03.csv  \n",
            "  inflating: data/distance_event_15_order_04.csv  \n",
            "  inflating: data/distance_event_15_order_05.csv  \n",
            "  inflating: data/distance_event_15_order_06.csv  \n",
            "  inflating: data/distance_event_15_order_07.csv  \n",
            "  inflating: data/distance_event_15_order_08.csv  \n",
            "  inflating: data/distance_event_15_order_09.csv  \n",
            "  inflating: data/distance_event_22_order_01.csv  \n",
            "  inflating: data/distance_event_22_order_02.csv  \n",
            "  inflating: data/distance_event_22_order_03.csv  \n",
            "  inflating: data/distance_event_22_order_04.csv  \n",
            "  inflating: data/distance_event_22_order_05.csv  \n",
            "  inflating: data/distance_event_22_order_06.csv  \n",
            "  inflating: data/distance_event_22_order_07.csv  \n",
            "  inflating: data/distance_event_22_order_08.csv  \n",
            "  inflating: data/distance_event_22_order_09.csv  \n",
            "  inflating: data/distance_event_25_order_01.csv  \n",
            "  inflating: data/distance_event_25_order_02.csv  \n",
            "  inflating: data/distance_event_25_order_03.csv  \n",
            "  inflating: data/distance_event_25_order_04.csv  \n",
            "  inflating: data/distance_event_25_order_05.csv  \n",
            "  inflating: data/distance_event_25_order_06.csv  \n",
            "  inflating: data/distance_event_25_order_07.csv  \n",
            "  inflating: data/distance_event_25_order_08.csv  \n",
            "  inflating: data/distance_event_25_order_09.csv  \n",
            "  inflating: data/distance_event_30_order_01.csv  \n",
            "  inflating: data/distance_event_30_order_02.csv  \n",
            "  inflating: data/distance_event_30_order_03.csv  \n",
            "  inflating: data/distance_event_30_order_04.csv  \n",
            "  inflating: data/distance_event_30_order_05.csv  \n",
            "  inflating: data/distance_event_30_order_06.csv  \n",
            "  inflating: data/distance_event_30_order_07.csv  \n",
            "  inflating: data/distance_event_30_order_08.csv  \n",
            "  inflating: data/distance_event_30_order_09.csv  \n",
            "  inflating: data/distance_event_31_order_01.csv  \n",
            "  inflating: data/distance_event_31_order_02.csv  \n",
            "  inflating: data/distance_event_31_order_03.csv  \n",
            "  inflating: data/distance_event_31_order_04.csv  \n",
            "  inflating: data/distance_event_31_order_05.csv  \n",
            "  inflating: data/distance_event_31_order_06.csv  \n",
            "  inflating: data/distance_event_31_order_07.csv  \n",
            "  inflating: data/distance_event_31_order_08.csv  \n",
            "  inflating: data/distance_event_31_order_09.csv  \n",
            "  inflating: data/distance_event_34_order_01.csv  \n",
            "  inflating: data/distance_event_34_order_02.csv  \n",
            "  inflating: data/distance_event_34_order_03.csv  \n",
            "  inflating: data/distance_event_34_order_04.csv  \n",
            "  inflating: data/distance_event_34_order_05.csv  \n",
            "  inflating: data/distance_event_34_order_06.csv  \n",
            "  inflating: data/distance_event_34_order_07.csv  \n",
            "  inflating: data/distance_event_34_order_08.csv  \n",
            "  inflating: data/distance_event_34_order_09.csv  \n",
            "  inflating: data/distance_event_35_order_01.csv  \n",
            "  inflating: data/distance_event_35_order_02.csv  \n",
            "  inflating: data/distance_event_35_order_03.csv  \n",
            "  inflating: data/distance_event_35_order_04.csv  \n",
            "  inflating: data/distance_event_35_order_05.csv  \n",
            "  inflating: data/distance_event_35_order_06.csv  \n",
            "  inflating: data/distance_event_35_order_07.csv  \n",
            "  inflating: data/distance_event_35_order_08.csv  \n",
            "  inflating: data/distance_event_35_order_09.csv  \n",
            "  inflating: data/distance_event_36_order_01.csv  \n",
            "  inflating: data/distance_event_36_order_02.csv  \n",
            "  inflating: data/distance_event_36_order_03.csv  \n",
            "  inflating: data/distance_event_36_order_04.csv  \n",
            "  inflating: data/distance_event_36_order_05.csv  \n",
            "  inflating: data/distance_event_36_order_06.csv  \n",
            "  inflating: data/distance_event_36_order_07.csv  \n",
            "  inflating: data/distance_event_36_order_08.csv  \n",
            "  inflating: data/distance_event_36_order_09.csv  \n",
            "  inflating: data/distance_event_38_order_01.csv  \n",
            "  inflating: data/distance_event_38_order_02.csv  \n",
            "  inflating: data/distance_event_38_order_03.csv  \n",
            "  inflating: data/distance_event_38_order_04.csv  \n",
            "  inflating: data/distance_event_38_order_05.csv  \n",
            "  inflating: data/distance_event_38_order_06.csv  \n",
            "  inflating: data/distance_event_38_order_07.csv  \n",
            "  inflating: data/distance_event_38_order_08.csv  \n",
            "  inflating: data/distance_event_38_order_09.csv  \n",
            "  inflating: data/distance_event_40_order_01.csv  \n",
            "  inflating: data/distance_event_40_order_02.csv  \n",
            "  inflating: data/distance_event_40_order_03.csv  \n",
            "  inflating: data/distance_event_40_order_04.csv  \n",
            "  inflating: data/distance_event_40_order_05.csv  \n",
            "  inflating: data/distance_event_40_order_06.csv  \n",
            "  inflating: data/distance_event_40_order_07.csv  \n",
            "  inflating: data/distance_event_40_order_08.csv  \n",
            "  inflating: data/distance_event_40_order_09.csv  \n",
            "  inflating: data/distance_event_46_order_01.csv  \n",
            "  inflating: data/distance_event_46_order_02.csv  \n",
            "  inflating: data/distance_event_46_order_03.csv  \n",
            "  inflating: data/distance_event_46_order_04.csv  \n",
            "  inflating: data/distance_event_46_order_05.csv  \n",
            "  inflating: data/distance_event_46_order_06.csv  \n",
            "  inflating: data/distance_event_46_order_07.csv  \n",
            "  inflating: data/distance_event_46_order_08.csv  \n",
            "  inflating: data/distance_event_46_order_09.csv  \n",
            "  inflating: data/distance_event_49_order_01.csv  \n",
            "  inflating: data/distance_event_49_order_02.csv  \n",
            "  inflating: data/distance_event_49_order_03.csv  \n",
            "  inflating: data/distance_event_49_order_04.csv  \n",
            "  inflating: data/distance_event_49_order_05.csv  \n",
            "  inflating: data/distance_event_49_order_06.csv  \n",
            "  inflating: data/distance_event_49_order_07.csv  \n",
            "  inflating: data/distance_event_49_order_08.csv  \n",
            "  inflating: data/distance_event_49_order_09.csv  \n",
            "  inflating: data/distance_event_56_order_01.csv  \n",
            "  inflating: data/distance_event_56_order_02.csv  \n",
            "  inflating: data/distance_event_56_order_03.csv  \n",
            "  inflating: data/distance_event_56_order_04.csv  \n",
            "  inflating: data/distance_event_56_order_05.csv  \n",
            "  inflating: data/distance_event_56_order_06.csv  \n",
            "  inflating: data/distance_event_56_order_07.csv  \n",
            "  inflating: data/distance_event_56_order_08.csv  \n",
            "  inflating: data/distance_event_56_order_09.csv  \n",
            "  inflating: data/distance_event_59_order_01.csv  \n",
            "  inflating: data/distance_event_59_order_02.csv  \n",
            "  inflating: data/distance_event_59_order_03.csv  \n",
            "  inflating: data/distance_event_59_order_04.csv  \n",
            "  inflating: data/distance_event_59_order_05.csv  \n",
            "  inflating: data/distance_event_59_order_06.csv  \n",
            "  inflating: data/distance_event_59_order_07.csv  \n",
            "  inflating: data/distance_event_59_order_08.csv  \n",
            "  inflating: data/distance_event_59_order_09.csv  \n",
            "  inflating: data/distance_event_61_order_01.csv  \n",
            "  inflating: data/distance_event_61_order_02.csv  \n",
            "  inflating: data/distance_event_61_order_03.csv  \n",
            "  inflating: data/distance_event_61_order_04.csv  \n",
            "  inflating: data/distance_event_61_order_05.csv  \n",
            "  inflating: data/distance_event_61_order_06.csv  \n",
            "  inflating: data/distance_event_61_order_07.csv  \n",
            "  inflating: data/distance_event_61_order_08.csv  \n",
            "  inflating: data/distance_event_61_order_09.csv  \n",
            "  inflating: data/state_event_12_order_01.csv  \n",
            "  inflating: data/state_event_12_order_02.csv  \n",
            "  inflating: data/state_event_12_order_03.csv  \n",
            "  inflating: data/state_event_12_order_04.csv  \n",
            "  inflating: data/state_event_12_order_05.csv  \n",
            "  inflating: data/state_event_12_order_06.csv  \n",
            "  inflating: data/state_event_12_order_07.csv  \n",
            "  inflating: data/state_event_12_order_08.csv  \n",
            "  inflating: data/state_event_12_order_09.csv  \n",
            "  inflating: data/state_event_13_order_01.csv  \n",
            "  inflating: data/state_event_13_order_02.csv  \n",
            "  inflating: data/state_event_13_order_03.csv  \n",
            "  inflating: data/state_event_13_order_04.csv  \n",
            "  inflating: data/state_event_13_order_05.csv  \n",
            "  inflating: data/state_event_13_order_06.csv  \n",
            "  inflating: data/state_event_13_order_07.csv  \n",
            "  inflating: data/state_event_13_order_08.csv  \n",
            "  inflating: data/state_event_13_order_09.csv  \n",
            "  inflating: data/state_event_14_order_01.csv  \n",
            "  inflating: data/state_event_14_order_02.csv  \n",
            "  inflating: data/state_event_14_order_03.csv  \n",
            "  inflating: data/state_event_14_order_04.csv  \n",
            "  inflating: data/state_event_14_order_05.csv  \n",
            "  inflating: data/state_event_14_order_06.csv  \n",
            "  inflating: data/state_event_14_order_07.csv  \n",
            "  inflating: data/state_event_14_order_08.csv  \n",
            "  inflating: data/state_event_14_order_09.csv  \n",
            "  inflating: data/state_event_15_order_01.csv  \n",
            "  inflating: data/state_event_15_order_02.csv  \n",
            "  inflating: data/state_event_15_order_03.csv  \n",
            "  inflating: data/state_event_15_order_04.csv  \n",
            "  inflating: data/state_event_15_order_05.csv  \n",
            "  inflating: data/state_event_15_order_06.csv  \n",
            "  inflating: data/state_event_15_order_07.csv  \n",
            "  inflating: data/state_event_15_order_08.csv  \n",
            "  inflating: data/state_event_15_order_09.csv  \n",
            "  inflating: data/state_event_22_order_01.csv  \n",
            "  inflating: data/state_event_22_order_02.csv  \n",
            "  inflating: data/state_event_22_order_03.csv  \n",
            "  inflating: data/state_event_22_order_04.csv  \n",
            "  inflating: data/state_event_22_order_05.csv  \n",
            "  inflating: data/state_event_22_order_06.csv  \n",
            "  inflating: data/state_event_22_order_07.csv  \n",
            "  inflating: data/state_event_22_order_08.csv  \n",
            "  inflating: data/state_event_22_order_09.csv  \n",
            "  inflating: data/state_event_25_order_01.csv  \n",
            "  inflating: data/state_event_25_order_02.csv  \n",
            "  inflating: data/state_event_25_order_03.csv  \n",
            "  inflating: data/state_event_25_order_04.csv  \n",
            "  inflating: data/state_event_25_order_05.csv  \n",
            "  inflating: data/state_event_25_order_06.csv  \n",
            "  inflating: data/state_event_25_order_07.csv  \n",
            "  inflating: data/state_event_25_order_08.csv  \n",
            "  inflating: data/state_event_25_order_09.csv  \n",
            "  inflating: data/state_event_30_order_01.csv  \n",
            "  inflating: data/state_event_30_order_02.csv  \n",
            "  inflating: data/state_event_30_order_03.csv  \n",
            "  inflating: data/state_event_30_order_04.csv  \n",
            "  inflating: data/state_event_30_order_05.csv  \n",
            "  inflating: data/state_event_30_order_06.csv  \n",
            "  inflating: data/state_event_30_order_07.csv  \n",
            "  inflating: data/state_event_30_order_08.csv  \n",
            "  inflating: data/state_event_30_order_09.csv  \n",
            "  inflating: data/state_event_31_order_01.csv  \n",
            "  inflating: data/state_event_31_order_02.csv  \n",
            "  inflating: data/state_event_31_order_03.csv  \n",
            "  inflating: data/state_event_31_order_04.csv  \n",
            "  inflating: data/state_event_31_order_05.csv  \n",
            "  inflating: data/state_event_31_order_06.csv  \n",
            "  inflating: data/state_event_31_order_07.csv  \n",
            "  inflating: data/state_event_31_order_08.csv  \n",
            "  inflating: data/state_event_31_order_09.csv  \n",
            "  inflating: data/state_event_34_order_01.csv  \n",
            "  inflating: data/state_event_34_order_02.csv  \n",
            "  inflating: data/state_event_34_order_03.csv  \n",
            "  inflating: data/state_event_34_order_04.csv  \n",
            "  inflating: data/state_event_34_order_05.csv  \n",
            "  inflating: data/state_event_34_order_06.csv  \n",
            "  inflating: data/state_event_34_order_07.csv  \n",
            "  inflating: data/state_event_34_order_08.csv  \n",
            "  inflating: data/state_event_34_order_09.csv  \n",
            "  inflating: data/state_event_35_order_01.csv  \n",
            "  inflating: data/state_event_35_order_02.csv  \n",
            "  inflating: data/state_event_35_order_03.csv  \n",
            "  inflating: data/state_event_35_order_04.csv  \n",
            "  inflating: data/state_event_35_order_05.csv  \n",
            "  inflating: data/state_event_35_order_06.csv  \n",
            "  inflating: data/state_event_35_order_07.csv  \n",
            "  inflating: data/state_event_35_order_08.csv  \n",
            "  inflating: data/state_event_35_order_09.csv  \n",
            "  inflating: data/state_event_36_order_01.csv  \n",
            "  inflating: data/state_event_36_order_02.csv  \n",
            "  inflating: data/state_event_36_order_03.csv  \n",
            "  inflating: data/state_event_36_order_04.csv  \n",
            "  inflating: data/state_event_36_order_05.csv  \n",
            "  inflating: data/state_event_36_order_06.csv  \n",
            "  inflating: data/state_event_36_order_07.csv  \n",
            "  inflating: data/state_event_36_order_08.csv  \n",
            "  inflating: data/state_event_36_order_09.csv  \n",
            "  inflating: data/state_event_38_order_01.csv  \n",
            "  inflating: data/state_event_38_order_02.csv  \n",
            "  inflating: data/state_event_38_order_03.csv  \n",
            "  inflating: data/state_event_38_order_04.csv  \n",
            "  inflating: data/state_event_38_order_05.csv  \n",
            "  inflating: data/state_event_38_order_06.csv  \n",
            "  inflating: data/state_event_38_order_07.csv  \n",
            "  inflating: data/state_event_38_order_08.csv  \n",
            "  inflating: data/state_event_38_order_09.csv  \n",
            "  inflating: data/state_event_40_order_01.csv  \n",
            "  inflating: data/state_event_40_order_02.csv  \n",
            "  inflating: data/state_event_40_order_03.csv  \n",
            "  inflating: data/state_event_40_order_04.csv  \n",
            "  inflating: data/state_event_40_order_05.csv  \n",
            "  inflating: data/state_event_40_order_06.csv  \n",
            "  inflating: data/state_event_40_order_07.csv  \n",
            "  inflating: data/state_event_40_order_08.csv  \n",
            "  inflating: data/state_event_40_order_09.csv  \n",
            "  inflating: data/state_event_46_order_01.csv  \n",
            "  inflating: data/state_event_46_order_02.csv  \n",
            "  inflating: data/state_event_46_order_03.csv  \n",
            "  inflating: data/state_event_46_order_04.csv  \n",
            "  inflating: data/state_event_46_order_05.csv  \n",
            "  inflating: data/state_event_46_order_06.csv  \n",
            "  inflating: data/state_event_46_order_07.csv  \n",
            "  inflating: data/state_event_46_order_08.csv  \n",
            "  inflating: data/state_event_46_order_09.csv  \n",
            "  inflating: data/state_event_49_order_01.csv  \n",
            "  inflating: data/state_event_49_order_02.csv  \n",
            "  inflating: data/state_event_49_order_03.csv  \n",
            "  inflating: data/state_event_49_order_04.csv  \n",
            "  inflating: data/state_event_49_order_05.csv  \n",
            "  inflating: data/state_event_49_order_06.csv  \n",
            "  inflating: data/state_event_49_order_07.csv  \n",
            "  inflating: data/state_event_49_order_08.csv  \n",
            "  inflating: data/state_event_49_order_09.csv  \n",
            "  inflating: data/state_event_56_order_01.csv  \n",
            "  inflating: data/state_event_56_order_02.csv  \n",
            "  inflating: data/state_event_56_order_03.csv  \n",
            "  inflating: data/state_event_56_order_04.csv  \n",
            "  inflating: data/state_event_56_order_05.csv  \n",
            "  inflating: data/state_event_56_order_06.csv  \n",
            "  inflating: data/state_event_56_order_07.csv  \n",
            "  inflating: data/state_event_56_order_08.csv  \n",
            "  inflating: data/state_event_56_order_09.csv  \n",
            "  inflating: data/state_event_59_order_01.csv  \n",
            "  inflating: data/state_event_59_order_02.csv  \n",
            "  inflating: data/state_event_59_order_03.csv  \n",
            "  inflating: data/state_event_59_order_04.csv  \n",
            "  inflating: data/state_event_59_order_05.csv  \n",
            "  inflating: data/state_event_59_order_06.csv  \n",
            "  inflating: data/state_event_59_order_07.csv  \n",
            "  inflating: data/state_event_59_order_08.csv  \n",
            "  inflating: data/state_event_59_order_09.csv  \n",
            "  inflating: data/state_event_61_order_01.csv  \n",
            "  inflating: data/state_event_61_order_02.csv  \n",
            "  inflating: data/state_event_61_order_03.csv  \n",
            "  inflating: data/state_event_61_order_04.csv  \n",
            "  inflating: data/state_event_61_order_05.csv  \n",
            "  inflating: data/state_event_61_order_06.csv  \n",
            "  inflating: data/state_event_61_order_07.csv  \n",
            "  inflating: data/state_event_61_order_08.csv  \n",
            "  inflating: data/state_event_61_order_09.csv  \n"
          ],
          "name": "stdout"
        }
      ]
    },
    {
      "cell_type": "code",
      "metadata": {
        "id": "4EIg7k3Nkc1y",
        "colab_type": "code",
        "outputId": "0658eaba-6a81-4f8a-c314-b7ecacd4c192",
        "colab": {
          "base_uri": "https://localhost:8080/",
          "height": 187
        }
      },
      "source": [
        "#import data of grooming network and nearest neighbor network\n",
        "!curl -L -o nn_sri.csv https://www.dropbox.com/s/kd1ew1oyv3ej1i0/nn_sri.csv?dl=1\n",
        "!curl -L -o grooming.csv  https://www.dropbox.com/sh/5ssueu2wc1qsxw0/AAAUVckt9jlY_CZ7NpKzc5OTa?dl=1"
      ],
      "execution_count": 12,
      "outputs": [
        {
          "output_type": "stream",
          "text": [
            "  % Total    % Received % Xferd  Average Speed   Time    Time     Time  Current\n",
            "                                 Dload  Upload   Total   Spent    Left  Speed\n",
            "\r  0     0    0     0    0     0      0      0 --:--:-- --:--:-- --:--:--     0\r  0     0    0     0    0     0      0      0 --:--:-- --:--:-- --:--:--     0\n",
            "  0     0    0     0    0     0      0      0 --:--:-- --:--:-- --:--:--     0\n",
            "100  1211  100  1211    0     0   1196      0  0:00:01  0:00:01 --:--:--  9926\n",
            "  % Total    % Received % Xferd  Average Speed   Time    Time     Time  Current\n",
            "                                 Dload  Upload   Total   Spent    Left  Speed\n",
            "  0     0    0     0    0     0      0      0 --:--:-- --:--:-- --:--:--     0\n",
            "  0     0    0     0    0     0      0      0 --:--:-- --:--:-- --:--:--     0\n",
            "100   923  100   923    0     0    753      0  0:00:01  0:00:01 --:--:--   753\n"
          ],
          "name": "stdout"
        }
      ]
    },
    {
      "cell_type": "code",
      "metadata": {
        "id": "y-s2NpXzvdAs",
        "colab_type": "code",
        "colab": {
          "base_uri": "https://localhost:8080/",
          "height": 34
        },
        "outputId": "8810f55e-fb3c-47d5-839f-6263c6b6710d"
      },
      "source": [
        "!ls"
      ],
      "execution_count": 13,
      "outputs": [
        {
          "output_type": "stream",
          "text": [
            "data  grooming\tgrooming.csv  nn  nn.csv  nn_sri.csv  output.zip  sample_data\n"
          ],
          "name": "stdout"
        }
      ]
    },
    {
      "cell_type": "code",
      "metadata": {
        "id": "8dAcZyealO4B",
        "colab_type": "code",
        "colab": {
          "base_uri": "https://localhost:8080/",
          "height": 341
        },
        "outputId": "e1860f05-2942-4ea2-915a-d79e77aaed8e"
      },
      "source": [
        "#nn_file = \"nn_sri\"  + \".csv\"\n",
        "#nn_data = np.genfromtxt(nn_file, delimiter=',')[1:,1:]\n",
        "\n",
        "grooming_file = \"grooming\"  + \".csv\"\n",
        "grooming_data = np.genfromtxt(grooming_file, delimiter=',')[1:9,1:9]"
      ],
      "execution_count": 17,
      "outputs": [
        {
          "output_type": "error",
          "ename": "UnicodeDecodeError",
          "evalue": "ignored",
          "traceback": [
            "\u001b[0;31m---------------------------------------------------------------------------\u001b[0m",
            "\u001b[0;31mUnicodeDecodeError\u001b[0m                        Traceback (most recent call last)",
            "\u001b[0;32m<ipython-input-17-67ee9d595db3>\u001b[0m in \u001b[0;36m<module>\u001b[0;34m()\u001b[0m\n\u001b[1;32m      1\u001b[0m \u001b[0;34m\u001b[0m\u001b[0m\n\u001b[1;32m      2\u001b[0m \u001b[0mgrooming_file\u001b[0m \u001b[0;34m=\u001b[0m \u001b[0;34m\"grooming\"\u001b[0m  \u001b[0;34m+\u001b[0m \u001b[0;34m\".csv\"\u001b[0m\u001b[0;34m\u001b[0m\u001b[0;34m\u001b[0m\u001b[0m\n\u001b[0;32m----> 3\u001b[0;31m \u001b[0mgrooming_data\u001b[0m \u001b[0;34m=\u001b[0m \u001b[0mnp\u001b[0m\u001b[0;34m.\u001b[0m\u001b[0mgenfromtxt\u001b[0m\u001b[0;34m(\u001b[0m\u001b[0mgrooming_file\u001b[0m\u001b[0;34m,\u001b[0m \u001b[0mdelimiter\u001b[0m\u001b[0;34m=\u001b[0m\u001b[0;34m','\u001b[0m\u001b[0;34m)\u001b[0m\u001b[0;34m[\u001b[0m\u001b[0;36m1\u001b[0m\u001b[0;34m:\u001b[0m\u001b[0;36m9\u001b[0m\u001b[0;34m,\u001b[0m\u001b[0;36m1\u001b[0m\u001b[0;34m:\u001b[0m\u001b[0;36m9\u001b[0m\u001b[0;34m]\u001b[0m\u001b[0;34m\u001b[0m\u001b[0;34m\u001b[0m\u001b[0m\n\u001b[0m",
            "\u001b[0;32m/usr/local/lib/python3.6/dist-packages/numpy/lib/npyio.py\u001b[0m in \u001b[0;36mgenfromtxt\u001b[0;34m(fname, dtype, comments, delimiter, skip_header, skip_footer, converters, missing_values, filling_values, usecols, names, excludelist, deletechars, replace_space, autostrip, case_sensitive, defaultfmt, unpack, usemask, loose, invalid_raise, max_rows, encoding)\u001b[0m\n\u001b[1;32m   1784\u001b[0m         \u001b[0;32mtry\u001b[0m\u001b[0;34m:\u001b[0m\u001b[0;34m\u001b[0m\u001b[0;34m\u001b[0m\u001b[0m\n\u001b[1;32m   1785\u001b[0m             \u001b[0;32mwhile\u001b[0m \u001b[0;32mnot\u001b[0m \u001b[0mfirst_values\u001b[0m\u001b[0;34m:\u001b[0m\u001b[0;34m\u001b[0m\u001b[0;34m\u001b[0m\u001b[0m\n\u001b[0;32m-> 1786\u001b[0;31m                 \u001b[0mfirst_line\u001b[0m \u001b[0;34m=\u001b[0m \u001b[0m_decode_line\u001b[0m\u001b[0;34m(\u001b[0m\u001b[0mnext\u001b[0m\u001b[0;34m(\u001b[0m\u001b[0mfhd\u001b[0m\u001b[0;34m)\u001b[0m\u001b[0;34m,\u001b[0m \u001b[0mencoding\u001b[0m\u001b[0;34m)\u001b[0m\u001b[0;34m\u001b[0m\u001b[0;34m\u001b[0m\u001b[0m\n\u001b[0m\u001b[1;32m   1787\u001b[0m                 \u001b[0;32mif\u001b[0m \u001b[0;34m(\u001b[0m\u001b[0mnames\u001b[0m \u001b[0;32mis\u001b[0m \u001b[0;32mTrue\u001b[0m\u001b[0;34m)\u001b[0m \u001b[0;32mand\u001b[0m \u001b[0;34m(\u001b[0m\u001b[0mcomments\u001b[0m \u001b[0;32mis\u001b[0m \u001b[0;32mnot\u001b[0m \u001b[0;32mNone\u001b[0m\u001b[0;34m)\u001b[0m\u001b[0;34m:\u001b[0m\u001b[0;34m\u001b[0m\u001b[0;34m\u001b[0m\u001b[0m\n\u001b[1;32m   1788\u001b[0m                     \u001b[0;32mif\u001b[0m \u001b[0mcomments\u001b[0m \u001b[0;32min\u001b[0m \u001b[0mfirst_line\u001b[0m\u001b[0;34m:\u001b[0m\u001b[0;34m\u001b[0m\u001b[0;34m\u001b[0m\u001b[0m\n",
            "\u001b[0;32m/usr/lib/python3.6/codecs.py\u001b[0m in \u001b[0;36mdecode\u001b[0;34m(self, input, final)\u001b[0m\n\u001b[1;32m    319\u001b[0m         \u001b[0;31m# decode input (taking the buffer into account)\u001b[0m\u001b[0;34m\u001b[0m\u001b[0;34m\u001b[0m\u001b[0;34m\u001b[0m\u001b[0m\n\u001b[1;32m    320\u001b[0m         \u001b[0mdata\u001b[0m \u001b[0;34m=\u001b[0m \u001b[0mself\u001b[0m\u001b[0;34m.\u001b[0m\u001b[0mbuffer\u001b[0m \u001b[0;34m+\u001b[0m \u001b[0minput\u001b[0m\u001b[0;34m\u001b[0m\u001b[0;34m\u001b[0m\u001b[0m\n\u001b[0;32m--> 321\u001b[0;31m         \u001b[0;34m(\u001b[0m\u001b[0mresult\u001b[0m\u001b[0;34m,\u001b[0m \u001b[0mconsumed\u001b[0m\u001b[0;34m)\u001b[0m \u001b[0;34m=\u001b[0m \u001b[0mself\u001b[0m\u001b[0;34m.\u001b[0m\u001b[0m_buffer_decode\u001b[0m\u001b[0;34m(\u001b[0m\u001b[0mdata\u001b[0m\u001b[0;34m,\u001b[0m \u001b[0mself\u001b[0m\u001b[0;34m.\u001b[0m\u001b[0merrors\u001b[0m\u001b[0;34m,\u001b[0m \u001b[0mfinal\u001b[0m\u001b[0;34m)\u001b[0m\u001b[0;34m\u001b[0m\u001b[0;34m\u001b[0m\u001b[0m\n\u001b[0m\u001b[1;32m    322\u001b[0m         \u001b[0;31m# keep undecoded input until the next call\u001b[0m\u001b[0;34m\u001b[0m\u001b[0;34m\u001b[0m\u001b[0;34m\u001b[0m\u001b[0m\n\u001b[1;32m    323\u001b[0m         \u001b[0mself\u001b[0m\u001b[0;34m.\u001b[0m\u001b[0mbuffer\u001b[0m \u001b[0;34m=\u001b[0m \u001b[0mdata\u001b[0m\u001b[0;34m[\u001b[0m\u001b[0mconsumed\u001b[0m\u001b[0;34m:\u001b[0m\u001b[0;34m]\u001b[0m\u001b[0;34m\u001b[0m\u001b[0;34m\u001b[0m\u001b[0m\n",
            "\u001b[0;31mUnicodeDecodeError\u001b[0m: 'utf-8' codec can't decode byte 0xe0 in position 10: invalid continuation byte"
          ]
        }
      ]
    },
    {
      "cell_type": "code",
      "metadata": {
        "id": "oZf4qcnD7bgK",
        "colab_type": "code",
        "colab": {}
      },
      "source": [
        "events = []\n",
        "for file in glob.glob(\"data/distance*.csv\"):\n",
        "    x = file.split(\"_\")[2]\n",
        "    if x not in events: \n",
        "        events.append(x) \n",
        "    \n",
        "events.sort()\n"
      ],
      "execution_count": 0,
      "outputs": []
    },
    {
      "cell_type": "code",
      "metadata": {
        "id": "1YZGZpztWjCR",
        "colab_type": "code",
        "outputId": "74944562-4f88-4b77-e271-04f1d5c2cdc7",
        "colab": {
          "base_uri": "https://localhost:8080/",
          "height": 323
        }
      },
      "source": [
        "events"
      ],
      "execution_count": 4,
      "outputs": [
        {
          "output_type": "execute_result",
          "data": {
            "text/plain": [
              "['12',\n",
              " '13',\n",
              " '14',\n",
              " '15',\n",
              " '22',\n",
              " '25',\n",
              " '30',\n",
              " '31',\n",
              " '34',\n",
              " '35',\n",
              " '36',\n",
              " '38',\n",
              " '40',\n",
              " '46',\n",
              " '49',\n",
              " '56',\n",
              " '59',\n",
              " '61']"
            ]
          },
          "metadata": {
            "tags": []
          },
          "execution_count": 4
        }
      ]
    },
    {
      "cell_type": "code",
      "metadata": {
        "id": "JpLdWxlE-8an",
        "colab_type": "code",
        "colab": {}
      },
      "source": [
        "\n",
        "N = 9 # have to fix this for variable sized groups\n",
        "\n",
        "X1 = []\n",
        "X2 = []\n",
        "Y = []\n",
        "\n",
        "for e in events:\n",
        "    \n",
        "    states = np.zeros(N)\n",
        "    \n",
        "    \n",
        "    for i in range(N):\n",
        "\n",
        "        dist_file = \"data/distance_event_\" + e + \"_order_0\" + str(i+1) + \".csv\"\n",
        "        state_file = \"data/state_event_\" + e + \"_order_0\" + str(i+1) + \".csv\"\n",
        "\n",
        "        dist_data = np.genfromtxt(dist_file, delimiter=',')[1:,1:]\n",
        "        state_data = np.genfromtxt(state_file, delimiter=',')[1:,1]\n",
        "\n",
        "        dist_data2 = np.zeros((N,N))\n",
        "\n",
        "        dist_data2[:dist_data.shape[0],:dist_data.shape[1]] = dist_data[:]\n",
        "        \n",
        "        j = np.nonzero(states-state_data)[0][0]\n",
        "\n",
        "        depart = np.zeros(N)\n",
        "        depart[j] = 1\n",
        "        X1.append(states.copy())\n",
        "        X2.append(dist_data2)\n",
        "        Y.append(depart)\n",
        "        states[j]=1\n",
        "\n",
        "    \n",
        "    \n",
        "X1 = np.array(X1)\n",
        "X2 = np.array(X2)\n",
        "#nn= np.array([nn_data])\n",
        "#grooming = np.array([grooming_data])\n",
        "Y = np.array(Y)\n"
      ],
      "execution_count": 0,
      "outputs": []
    },
    {
      "cell_type": "code",
      "metadata": {
        "id": "8Riwvq4coPHQ",
        "colab_type": "code",
        "colab": {}
      },
      "source": [
        "states = tf.convert_to_tensor(X1)\n",
        "states = tf.expand_dims(states,-1)\n",
        "dists = tf.convert_to_tensor(X2)\n",
        "#nns = tf.convert_to_tensor(nn)\n",
        "#groomings = tf.convert_to_tensor(grooming)\n",
        "labels = tf.convert_to_tensor(Y)\n",
        "\n",
        "##distance model\n",
        "@tf.function\n",
        "def calc_distance_loss(in_w1):\n",
        "    D = in_w1*tf.exp(-dists)\n",
        "\n",
        "    logits = tf.matmul(D,states) # +in_b - no constant required because the softmax function means someone has to be next\n",
        "    soft_denom = tf.reduce_sum(tf.where(states==0,tf.exp(logits),0),axis=1)\n",
        "    soft_denom = tf.expand_dims(soft_denom,-1)\n",
        "    softmax = tf.where(states==0,tf.exp(logits) / soft_denom ,0)\n",
        "\n",
        "    softmax = tf.squeeze(softmax)\n",
        "    cross_entropy = -tf.reduce_sum(labels * tf.math.log(softmax + 1e-10), 1)\n",
        "\n",
        "    loss = tf.reduce_mean(cross_entropy)\n",
        "    return loss\n",
        "\n",
        "## nearest neighbor model\n",
        "@tf.function\n",
        "def calc_nn_loss(in_w1):\n",
        "    D = in_w1*nns\n",
        "\n",
        "    logits = tf.matmul(D,states) # +in_b - no constant required because the softmax function means someone has to be next\n",
        "    soft_denom = tf.reduce_sum(tf.where(states==0,tf.exp(logits),0),axis=1)\n",
        "    soft_denom = tf.expand_dims(soft_denom,-1)\n",
        "    softmax = tf.where(states==0,tf.exp(logits) / soft_denom ,0)\n",
        "\n",
        "    softmax = tf.squeeze(softmax)\n",
        "    cross_entropy = -tf.reduce_sum(labels * tf.math.log(softmax + 1e-10), 1)\n",
        "\n",
        "    loss = tf.reduce_mean(cross_entropy)\n",
        "    return loss\n",
        "\n",
        "##grooming model\n",
        "@tf.function\n",
        "def calc_grooming_loss(in_w1):\n",
        "    D = in_w1*groomings\n",
        "\n",
        "    logits = tf.matmul(D,states) # +in_b - no constant required because the softmax function means someone has to be next\n",
        "    soft_denom = tf.reduce_sum(tf.where(states==0,tf.exp(logits),0),axis=1)\n",
        "    soft_denom = tf.expand_dims(soft_denom,-1)\n",
        "    softmax = tf.where(states==0,tf.exp(logits) / soft_denom ,0)\n",
        "\n",
        "    softmax = tf.squeeze(softmax)\n",
        "    cross_entropy = -tf.reduce_sum(labels * tf.math.log(softmax + 1e-10), 1)\n",
        "\n",
        "    loss = tf.reduce_mean(cross_entropy)\n",
        "    return loss\n",
        "\n",
        "#social + distance model\n",
        "@tf.function\n",
        "def calc_loss(in_w1, in_S):\n",
        "    D = in_w1*tf.exp(-dists)\n",
        "\n",
        "    S = (in_S)\n",
        "    logits = tf.matmul(S,states) + tf.matmul(D,states) # +in_b - no constant required because the softmax function means someone has to be next\n",
        "    soft_denom = tf.reduce_sum(tf.where(states==0,tf.exp(logits),0),axis=1)\n",
        "    soft_denom = tf.expand_dims(soft_denom,-1)\n",
        "    softmax = tf.where(states==0,tf.exp(logits) / soft_denom ,0)\n",
        "\n",
        "    softmax = tf.squeeze(softmax)\n",
        "    cross_entropy = -tf.reduce_sum(labels * tf.math.log(softmax + 1e-10), 1)\n",
        "\n",
        "    loss = tf.reduce_mean(cross_entropy)\n",
        "    return loss\n",
        "\n",
        "#social + distance + spontenious model\n",
        "@tf.function\n",
        "def calc_spo_loss(in_w1, in_S, in_sp):\n",
        "    D = in_w1*tf.exp(-dists)\n",
        "\n",
        "    S = (in_S)\n",
        "    sp = (in_sp)\n",
        "    logits = tf.matmul(S,states) + tf.matmul(D,states) + tf.matmul(sp,states) # +in_b - no constant required because the softmax function means someone has to be next\n",
        "    soft_denom = tf.reduce_sum(tf.where(states==0,tf.exp(logits),0),axis=1)\n",
        "    soft_denom = tf.expand_dims(soft_denom,-1)\n",
        "    softmax = tf.where(states==0,tf.exp(logits) / soft_denom ,0)\n",
        "\n",
        "    softmax = tf.squeeze(softmax)\n",
        "    cross_entropy = -tf.reduce_sum(labels * tf.math.log(softmax + 1e-10), 1)\n",
        "\n",
        "    loss = tf.reduce_mean(cross_entropy)\n",
        "    return loss\n"
      ],
      "execution_count": 0,
      "outputs": []
    },
    {
      "cell_type": "code",
      "metadata": {
        "id": "VEGn5WAzogB8",
        "colab_type": "code",
        "colab": {}
      },
      "source": [
        "optimizer = tf.keras.optimizers.Adam(lr=1e-2)"
      ],
      "execution_count": 0,
      "outputs": []
    },
    {
      "cell_type": "code",
      "metadata": {
        "id": "LQsTIp12vnh7",
        "colab_type": "code",
        "colab": {}
      },
      "source": [
        "## distance + social model\n",
        "S1 = tf.Variable(tf.zeros(shape=(N,N ), dtype=tf.float64))\n",
        "w1 = tf.Variable(tf.random.normal(shape=(1, ), dtype=tf.float64))\n",
        "#b  = tf.Variable(tf.random.normal(shape=(1,), dtype=tf.float64))\n",
        "\n",
        "loss_history=[]\n",
        "weight_history=[]\n",
        "#b_history=[]\n",
        "S_history=[]\n",
        "def train_step():\n",
        "    with tf.GradientTape() as tape:\n",
        "    \n",
        "        loss_value = calc_loss(w1,S1)\n",
        "        \n",
        "    \n",
        "    loss_history.append(loss_value.numpy())\n",
        "    weight_history.append(w1.numpy())\n",
        "    S_history.append(S1.numpy())\n",
        "    #b_history.append(b.numpy())\n",
        "    grads = tape.gradient(loss_value, [w1,S1])\n",
        "    optimizer.apply_gradients(zip(grads, [w1,S1]))\n"
      ],
      "execution_count": 0,
      "outputs": []
    },
    {
      "cell_type": "code",
      "metadata": {
        "id": "tznckVInmbrl",
        "colab_type": "code",
        "colab": {}
      },
      "source": [
        "## distance + social + spontenious model\n",
        "S1 = tf.Variable(tf.zeros(shape=(N,N ), dtype=tf.float64))\n",
        "w1 = tf.Variable(tf.random.normal(shape=(1, ), dtype=tf.float64))\n",
        "spo1 = tf.Variable(tf.ones(shape=(1,N), dtype=tf.float64))\n",
        "#b  = tf.Variable(tf.random.normal(shape=(1,), dtype=tf.float64))\n",
        "\n",
        "loss_history=[]\n",
        "weight_history=[]\n",
        "#b_history=[]\n",
        "S_history=[]\n",
        "spo_history=[]\n",
        "def train_step():\n",
        "    with tf.GradientTape() as tape:\n",
        "    \n",
        "        loss_value = calc_spo_loss(w1,S1,spo1)\n",
        "        \n",
        "    \n",
        "    loss_history.append(loss_value.numpy())\n",
        "    weight_history.append(w1.numpy())\n",
        "    S_history.append(S1.numpy())\n",
        "    spo_history.append(spo.numpy())\n",
        "    #b_history.append(b.numpy())\n",
        "    grads = tape.gradient(loss_value, [w1,S1,spo1])\n",
        "    optimizer.apply_gradients(zip(grads, [w1,S1,spo1]))\n"
      ],
      "execution_count": 0,
      "outputs": []
    },
    {
      "cell_type": "code",
      "metadata": {
        "id": "TlBZrO0PttKu",
        "colab_type": "code",
        "colab": {}
      },
      "source": [
        "# distance model\n",
        "w1 = tf.Variable(tf.random.normal(shape=(1, ), dtype=tf.float64))\n",
        "#b  = tf.Variable(tf.random.normal(shape=(1,), dtype=tf.float64))\n",
        "\n",
        "loss_history=[]\n",
        "weight_history=[]\n",
        "#b_history=[]\n",
        "S_history=[]\n",
        "def train_step():\n",
        "    with tf.GradientTape() as tape:\n",
        "    \n",
        "        loss_value = calc_distance_loss(w1)\n",
        "\n",
        "    \n",
        "    loss_history.append(loss_value.numpy())\n",
        "    weight_history.append(w1.numpy())\n",
        "    #b_history.append(b.numpy())\n",
        "    grads = tape.gradient(loss_value, [w1])\n",
        "    optimizer.apply_gradients(zip(grads, [w1]))\n"
      ],
      "execution_count": 0,
      "outputs": []
    },
    {
      "cell_type": "code",
      "metadata": {
        "id": "_PrimEzFop4P",
        "colab_type": "code",
        "colab": {}
      },
      "source": [
        "# nn model\n",
        "\n",
        "w1 = tf.Variable(tf.random.normal(shape=(1, ), dtype=tf.float64))\n",
        "#b  = tf.Variable(tf.random.normal(shape=(1,), dtype=tf.float64))\n",
        "\n",
        "loss_history=[]\n",
        "weight_history=[]\n",
        "#b_history=[]\n",
        "S_history=[]\n",
        "def train_step():\n",
        "    with tf.GradientTape() as tape:\n",
        "    \n",
        "        loss_value = calc_nn_loss(w1)\n",
        "\n",
        "    \n",
        "    loss_history.append(loss_value.numpy())\n",
        "    weight_history.append(w1.numpy())\n",
        "    #b_history.append(b.numpy())\n",
        "    grads = tape.gradient(loss_value, [w1])\n",
        "    optimizer.apply_gradients(zip(grads, [w1]))"
      ],
      "execution_count": 0,
      "outputs": []
    },
    {
      "cell_type": "code",
      "metadata": {
        "id": "xsg32VS5pBoH",
        "colab_type": "code",
        "colab": {}
      },
      "source": [
        "# grooming model\n",
        "\n",
        "w1 = tf.Variable(tf.random.normal(shape=(1, ), dtype=tf.float64))\n",
        "#b  = tf.Variable(tf.random.normal(shape=(1,), dtype=tf.float64))\n",
        "\n",
        "loss_history=[]\n",
        "weight_history=[]\n",
        "#b_history=[]\n",
        "S_history=[]\n",
        "def train_step():\n",
        "    with tf.GradientTape() as tape:\n",
        "    \n",
        "        loss_value = calc_grooming_loss(w1)\n",
        "\n",
        "    \n",
        "    loss_history.append(loss_value.numpy())\n",
        "    weight_history.append(w1.numpy())\n",
        "    #b_history.append(b.numpy())\n",
        "    grads = tape.gradient(loss_value, [w1])\n",
        "    optimizer.apply_gradients(zip(grads, [w1]))"
      ],
      "execution_count": 0,
      "outputs": []
    },
    {
      "cell_type": "code",
      "metadata": {
        "id": "NQGjYpvftuir",
        "colab_type": "code",
        "outputId": "3e19f5c1-367c-4779-e887-03c0ebe14cc5",
        "colab": {
          "base_uri": "https://localhost:8080/",
          "height": 34
        }
      },
      "source": [
        "for i in tqdm(range(3000)):\n",
        "    train_step()"
      ],
      "execution_count": 40,
      "outputs": [
        {
          "output_type": "stream",
          "text": [
            "100%|██████████| 3000/3000 [00:13<00:00, 230.33it/s]\n"
          ],
          "name": "stderr"
        }
      ]
    },
    {
      "cell_type": "code",
      "metadata": {
        "id": "z63RhbZTt7JB",
        "colab_type": "code",
        "outputId": "ea2e92d2-4515-4753-bb0b-46806663003f",
        "colab": {
          "base_uri": "https://localhost:8080/",
          "height": 284
        }
      },
      "source": [
        "print(loss_history[-1])\n",
        "plt.plot(loss_history[1:3000])\n",
        "\n",
        "plt.show()"
      ],
      "execution_count": 41,
      "outputs": [
        {
          "output_type": "stream",
          "text": [
            "1.1728931212651315\n"
          ],
          "name": "stdout"
        },
        {
          "output_type": "display_data",
          "data": {
            "image/png": "[encoded data removed]",
            "text/plain": [
              "<Figure size 432x288 with 1 Axes>"
            ]
          },
          "metadata": {
            "tags": []
          }
        }
      ]
    },
    {
      "cell_type": "code",
      "metadata": {
        "id": "dOTeDGdAuM8Y",
        "colab_type": "code",
        "outputId": "c07511b3-07da-4ce8-90cc-5f2ac4aa052c",
        "colab": {
          "base_uri": "https://localhost:8080/",
          "height": 269
        }
      },
      "source": [
        "finalS = S_history[-1]\n",
        "np.fill_diagonal(finalS,0)\n",
        "\n",
        "plt.imshow(finalS,vmax=1,vmin=-1)\n",
        "plt.colorbar()\n",
        "plt.show()\n"
      ],
      "execution_count": 31,
      "outputs": [
        {
          "output_type": "display_data",
          "data": {
            "image/png": "[encoded data removed]",
            "text/plain": [
              "<Figure size 432x288 with 2 Axes>"
            ]
          },
          "metadata": {
            "tags": []
          }
        }
      ]
    },
    {
      "cell_type": "code",
      "metadata": {
        "id": "hZrZuchV4xsv",
        "colab_type": "code",
        "outputId": "d256ca4b-518b-4b3a-8155-955496dfc284",
        "colab": {
          "base_uri": "https://localhost:8080/",
          "height": 34
        }
      },
      "source": [
        "spo_history[-1]"
      ],
      "execution_count": 42,
      "outputs": [
        {
          "output_type": "execute_result",
          "data": {
            "text/plain": [
              "array([0., 0., 0., 0., 0., 0., 0., 0., 0.])"
            ]
          },
          "metadata": {
            "tags": []
          },
          "execution_count": 42
        }
      ]
    },
    {
      "cell_type": "code",
      "metadata": {
        "id": "7CDBaXRN--ec",
        "colab_type": "code",
        "outputId": "bfec7382-b2e0-4526-be5a-b637373a45af",
        "colab": {
          "base_uri": "https://localhost:8080/",
          "height": 282
        }
      },
      "source": [
        "plt.plot(weight_history[200:])"
      ],
      "execution_count": 35,
      "outputs": [
        {
          "output_type": "execute_result",
          "data": {
            "text/plain": [
              "[<matplotlib.lines.Line2D at 0x7f3dc893a3c8>]"
            ]
          },
          "metadata": {
            "tags": []
          },
          "execution_count": 35
        },
        {
          "output_type": "display_data",
          "data": {
            "image/png": "[encoded data removed]",
            "text/plain": [
              "<Figure size 432x288 with 1 Axes>"
            ]
          },
          "metadata": {
            "tags": []
          }
        }
      ]
    },
    {
      "cell_type": "code",
      "metadata": {
        "id": "0j4_ccw-Nf-h",
        "colab_type": "code",
        "outputId": "f88f94cf-aeb8-482b-c383-c74363530c77",
        "colab": {
          "base_uri": "https://localhost:8080/",
          "height": 34
        }
      },
      "source": [
        "loss_history[-1]"
      ],
      "execution_count": 0,
      "outputs": [
        {
          "output_type": "execute_result",
          "data": {
            "text/plain": [
              "1.4214982042428776"
            ]
          },
          "metadata": {
            "tags": []
          },
          "execution_count": 68
        }
      ]
    },
    {
      "cell_type": "code",
      "metadata": {
        "id": "Upl9nYizaRJA",
        "colab_type": "code",
        "outputId": "b3269d6c-35e1-4e83-cd6c-39fec946f801",
        "colab": {
          "base_uri": "https://localhost:8080/",
          "height": 330
        }
      },
      "source": [
        "S_history[-1]"
      ],
      "execution_count": 0,
      "outputs": [
        {
          "output_type": "execute_result",
          "data": {
            "text/plain": [
              "array([[ 0.   ,  0.73 ,  1.368, -1.768,  1.173, -2.075,  1.619,  0.057,\n",
              "        -0.629],\n",
              "       [-0.152,  0.   ,  1.157, -1.922,  2.968, -0.492, -0.906,  0.784,\n",
              "        -1.646],\n",
              "       [ 1.17 , -1.184,  0.   ,  0.36 , -3.56 ,  0.409, -0.206,  0.221,\n",
              "         1.937],\n",
              "       [-1.963, -0.034,  2.496,  0.   ,  1.141, -0.266,  0.279, -0.757,\n",
              "         0.319],\n",
              "       [ 0.67 ,  0.121, -0.924,  0.923,  0.   ,  0.007,  0.854, -0.715,\n",
              "         1.432],\n",
              "       [-0.291,  0.231, -0.792,  1.919, -1.162,  0.   , -0.058,  0.945,\n",
              "        -1.286],\n",
              "       [ 1.358, -0.524, -0.463, -1.065,  1.195,  0.967,  0.   , -0.202,\n",
              "        -1.195],\n",
              "       [ 0.442, -0.195, -0.091, -0.762, -0.204,  0.086,  0.471,  0.   ,\n",
              "        -0.809],\n",
              "       [-0.657,  0.544, -0.149,  1.03 ,  0.657,  0.194, -0.605, -0.538,\n",
              "         0.   ]])"
            ]
          },
          "metadata": {
            "tags": []
          },
          "execution_count": 16
        }
      ]
    },
    {
      "cell_type": "code",
      "metadata": {
        "id": "_L2ksdsHy63j",
        "colab_type": "code",
        "outputId": "6a62145c-69bc-476a-d13a-9ffa2e71091c",
        "colab": {
          "base_uri": "https://localhost:8080/",
          "height": 173
        }
      },
      "source": [
        "S = S1\n",
        "for i in range(N):\n",
        "    np_st = np.zeros((1,N,1))\n",
        "    np_st[0,i,0]=1\n",
        "    st = tf.convert_to_tensor(np_st)\n",
        "    logits = tf.matmul(S,st)\n",
        "    soft_denom = tf.reduce_sum(tf.where(st==0,tf.exp(logits),0),axis=1)\n",
        "    soft_denom = tf.expand_dims(soft_denom,-1)\n",
        "    softmax = tf.where(st==0,tf.exp(logits) / soft_denom ,0)\n",
        "    print('probability of following horse ' + str(i) + ' : ', softmax.numpy()[0,:,0])"
      ],
      "execution_count": 0,
      "outputs": [
        {
          "output_type": "stream",
          "text": [
            "probability of following horse 0 :  [0.    0.067 0.25  0.011 0.152 0.058 0.302 0.121 0.04 ]\n",
            "probability of following horse 1 :  [0.234 0.    0.034 0.109 0.127 0.142 0.067 0.093 0.194]\n",
            "probability of following horse 2 :  [0.175 0.141 0.    0.539 0.018 0.02  0.028 0.041 0.038]\n",
            "probability of following horse 3 :  [0.012 0.01  0.098 0.    0.171 0.464 0.023 0.032 0.191]\n",
            "probability of following horse 4 :  [0.1   0.604 0.001 0.097 0.    0.01  0.103 0.025 0.06 ]\n",
            "probability of following horse 5 :  [0.014 0.068 0.168 0.086 0.113 0.    0.294 0.122 0.136]\n",
            "probability of following horse 6 :  [0.387 0.031 0.062 0.101 0.18  0.072 0.    0.123 0.042]\n",
            "probability of following horse 7 :  [0.112 0.232 0.132 0.05  0.052 0.273 0.087 0.    0.062]\n",
            "probability of following horse 8 :  [0.037 0.014 0.487 0.096 0.294 0.019 0.021 0.031 0.   ]\n"
          ],
          "name": "stdout"
        }
      ]
    },
    {
      "cell_type": "code",
      "metadata": {
        "id": "8LXGER_c4s-u",
        "colab_type": "code",
        "colab": {}
      },
      "source": [
        "np_st = np.zeros((1,N,1))\n"
      ],
      "execution_count": 0,
      "outputs": []
    },
    {
      "cell_type": "code",
      "metadata": {
        "id": "zoMDaEyb5Pzc",
        "colab_type": "code",
        "outputId": "0aefb228-034f-4b37-afe6-12349fcf1b2e",
        "colab": {
          "base_uri": "https://localhost:8080/",
          "height": 34
        }
      },
      "source": [
        "print(softmax.numpy()[0,:,0])"
      ],
      "execution_count": 0,
      "outputs": [
        {
          "output_type": "stream",
          "text": [
            "[0.    0.067 0.25  0.011 0.152 0.058 0.302 0.121 0.04 ]\n"
          ],
          "name": "stdout"
        }
      ]
    },
    {
      "cell_type": "code",
      "metadata": {
        "id": "sEvlPqv-5gme",
        "colab_type": "code",
        "colab": {}
      },
      "source": [
        ""
      ],
      "execution_count": 0,
      "outputs": []
    }
  ]
}